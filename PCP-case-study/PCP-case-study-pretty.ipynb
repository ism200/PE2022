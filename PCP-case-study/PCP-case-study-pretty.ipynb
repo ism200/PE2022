{
 "cells": [
  {
   "cell_type": "markdown",
   "metadata": {},
   "source": [
    "# PCP case study"
   ]
  },
  {
   "cell_type": "markdown",
   "metadata": {},
   "source": [
    "This case study concerns the transient difference absorption measured after 490 nm\n",
    "excitation from the peridinin chlorophyll protein (abbreviated PCP), a light-harvesting\n",
    "complex of oceanic photosynthetic algae. The measurement and the global analysis are described in (van Stokkum et al. 2009), Fig.S6. The target analysis is based upon the model explained in (van Stokkum et al. 2009), Fig.4 and Fig.7.\n",
    "\n",
    "van Stokkum IHM, Papagiannakis E, Vengris M, Salverda JM, Polivka T, Zigmantas D, Larsen DS, Lampoura SS, Hiller RG, van Grondelle R (2009) Inter-pigment interactions in the peridinin chlorophyll protein studied by global and target analysis of time resolved absorption spectra. Chemical Physics 357 (1-3):70-78."
   ]
  },
  {
   "cell_type": "markdown",
   "metadata": {},
   "source": [
    "### Inspect data"
   ]
  },
  {
   "cell_type": "code",
   "execution_count": null,
   "metadata": {},
   "outputs": [],
   "source": [
    "from pyglotaran_extras import plot_data_overview\n",
    "\n",
    "PCP_data_path = \"PCP490sel.ascii\"\n",
    "plot_data_overview(PCP_data_path, nr_of_data_svd_vectors=5);"
   ]
  },
  {
   "cell_type": "markdown",
   "metadata": {},
   "source": [
    "## Global Analysis"
   ]
  },
  {
   "cell_type": "markdown",
   "metadata": {},
   "source": [
    "### Used model and parameters"
   ]
  },
  {
   "cell_type": "code",
   "execution_count": null,
   "metadata": {},
   "outputs": [],
   "source": [
    "from glotaran.utils.ipython import display_file\n",
    "\n",
    "PCP_global_model_path = \"models/PCP-global-model.yml\"\n",
    "PCP_global_parameters_path = \"models/PCP-global-parameters.yml\""
   ]
  },
  {
   "cell_type": "markdown",
   "metadata": {},
   "source": [
    "#### Model file"
   ]
  },
  {
   "cell_type": "code",
   "execution_count": null,
   "metadata": {},
   "outputs": [],
   "source": [
    "display_file(PCP_global_model_path, syntax=\"yaml\")"
   ]
  },
  {
   "cell_type": "markdown",
   "metadata": {},
   "source": [
    "#### Parameters file"
   ]
  },
  {
   "cell_type": "code",
   "execution_count": null,
   "metadata": {},
   "outputs": [],
   "source": [
    "display_file(PCP_global_parameters_path, syntax=\"yaml\")"
   ]
  },
  {
   "cell_type": "markdown",
   "metadata": {},
   "source": [
    "The seven free parameters are the center (the location of the maximum of the IRF) and the width of the IRF, and the five kinetic parameters.\n",
    "Note that these data have been precorrected for dispersion. Dispersion parameters could have been estimated from the uncorrected data as well."
   ]
  },
  {
   "cell_type": "markdown",
   "metadata": {},
   "source": [
    "### Create scheme and optimize it"
   ]
  },
  {
   "cell_type": "code",
   "execution_count": null,
   "metadata": {},
   "outputs": [],
   "source": [
    "from glotaran.project.scheme import Scheme\n",
    "\n",
    "PCP_global_scheme = Scheme(\n",
    "    model=PCP_global_model_path,\n",
    "    parameters=PCP_global_parameters_path,\n",
    "    data={\"PCP_data\": PCP_data_path},\n",
    ")\n",
    "PCP_global_scheme.validate()"
   ]
  },
  {
   "cell_type": "code",
   "execution_count": null,
   "metadata": {},
   "outputs": [],
   "source": [
    "from glotaran.optimization.optimize import optimize\n",
    "\n",
    "PCP_global_result = optimize(PCP_global_scheme)"
   ]
  },
  {
   "cell_type": "code",
   "execution_count": null,
   "metadata": {},
   "outputs": [],
   "source": [
    "PCP_global_result"
   ]
  },
  {
   "cell_type": "code",
   "execution_count": null,
   "metadata": {},
   "outputs": [],
   "source": [
    "PCP_global_result.optimized_parameters"
   ]
  },
  {
   "cell_type": "markdown",
   "metadata": {},
   "source": [
    "### Result plots"
   ]
  },
  {
   "cell_type": "markdown",
   "metadata": {},
   "source": [
    "#### Fit quality"
   ]
  },
  {
   "cell_type": "code",
   "execution_count": null,
   "metadata": {},
   "outputs": [],
   "source": [
    "from pyglotaran_extras import plot_fitted_traces, select_plot_wavelengths\n",
    "\n",
    "wavelengths = select_plot_wavelengths(PCP_global_result.data[\"PCP_data\"])\n",
    "plot_fitted_traces(PCP_global_result, wavelengths);"
   ]
  },
  {
   "cell_type": "code",
   "execution_count": null,
   "metadata": {},
   "outputs": [],
   "source": [
    "fig_global, axes = plot_fitted_traces(PCP_global_result, wavelengths, linlog=True, linthresh=1)"
   ]
  },
  {
   "cell_type": "markdown",
   "metadata": {},
   "source": [
    "Note that in the second plot the time axis is linear until 1 ps and logarithmic thereafter. This plot is more informative."
   ]
  },
  {
   "cell_type": "markdown",
   "metadata": {},
   "source": [
    "#### Overview"
   ]
  },
  {
   "cell_type": "code",
   "execution_count": null,
   "metadata": {},
   "outputs": [],
   "source": [
    "from pyglotaran_extras import plot_overview\n",
    "\n",
    "plot_overview(\n",
    "    PCP_global_result,\n",
    "    linlog=True,\n",
    "    figure_only=False,\n",
    "    nr_of_data_svd_vectors=5,\n",
    "    nr_of_residual_svd_vectors=1,\n",
    ");"
   ]
  },
  {
   "cell_type": "markdown",
   "metadata": {},
   "source": [
    "## Target Analysis"
   ]
  },
  {
   "cell_type": "markdown",
   "metadata": {},
   "source": [
    "### Used model and parameters"
   ]
  },
  {
   "cell_type": "code",
   "execution_count": null,
   "metadata": {},
   "outputs": [],
   "source": [
    "PCP_target_model_path = \"models/PCP-target-model.yml\"\n",
    "PCP_target_parameters_path = \"models/PCP-target-parameters.yml\""
   ]
  },
  {
   "cell_type": "markdown",
   "metadata": {},
   "source": [
    "#### Model file"
   ]
  },
  {
   "cell_type": "code",
   "execution_count": null,
   "metadata": {},
   "outputs": [],
   "source": [
    "display_file(PCP_target_model_path, syntax=\"yaml\")"
   ]
  },
  {
   "cell_type": "markdown",
   "metadata": {},
   "source": [
    "#### Parameters file"
   ]
  },
  {
   "cell_type": "code",
   "execution_count": null,
   "metadata": {},
   "outputs": [],
   "source": [
    "display_file(PCP_target_parameters_path, syntax=\"yaml\")"
   ]
  },
  {
   "cell_type": "markdown",
   "metadata": {},
   "source": [
    "The free parameters are the center (the location of the maximum of the IRF) and the width of the IRF, and some of the kinetic parameters.\n",
    "Which kinetic parameters can be estimated is difficult, and requires some trial and error. Six eigenvalues (the reciprocals of the lifetimes) of the K matrix can in principle be estimated and spectral assumptions are needed for the remaining kinetic parameters. Because of the limited time range measured(less than 100 ps), it is better to fix the Chl decay rate at 1/(2ns)."
   ]
  },
  {
   "cell_type": "markdown",
   "metadata": {},
   "source": [
    "### Create scheme and optimize it"
   ]
  },
  {
   "cell_type": "code",
   "execution_count": null,
   "metadata": {},
   "outputs": [],
   "source": [
    "PCP_target_scheme = Scheme(\n",
    "    model=PCP_target_model_path,\n",
    "    parameters=PCP_target_parameters_path,\n",
    "    maximum_number_function_evaluations=1,\n",
    "    data={\"PCP_data\": PCP_data_path},\n",
    ")\n",
    "PCP_target_scheme.validate()"
   ]
  },
  {
   "cell_type": "code",
   "execution_count": null,
   "metadata": {},
   "outputs": [],
   "source": [
    "PCP_target_result = optimize(PCP_target_scheme)"
   ]
  },
  {
   "cell_type": "code",
   "execution_count": null,
   "metadata": {},
   "outputs": [],
   "source": [
    "PCP_target_result"
   ]
  },
  {
   "cell_type": "markdown",
   "metadata": {},
   "source": [
    "### Result plots"
   ]
  },
  {
   "cell_type": "markdown",
   "metadata": {},
   "source": [
    "#### Fit quality"
   ]
  },
  {
   "cell_type": "code",
   "execution_count": null,
   "metadata": {},
   "outputs": [],
   "source": [
    "fig_target, axes = plot_fitted_traces(PCP_target_result, wavelengths, linlog=True, linthresh=1);"
   ]
  },
  {
   "cell_type": "markdown",
   "metadata": {},
   "source": [
    "#### Overview"
   ]
  },
  {
   "cell_type": "code",
   "execution_count": null,
   "metadata": {},
   "outputs": [],
   "source": [
    "plot_overview(\n",
    "    PCP_target_result.data[\"PCP_data\"],\n",
    "    figure_only=False,\n",
    "    nr_of_data_svd_vectors=3,\n",
    "    nr_of_residual_svd_vectors=1,\n",
    "    linlog=True,\n",
    "    linthresh=1,\n",
    ");"
   ]
  },
  {
   "cell_type": "code",
   "execution_count": null,
   "metadata": {},
   "outputs": [],
   "source": [
    "PCP_target_result.optimized_parameters"
   ]
  },
  {
   "cell_type": "code",
   "execution_count": null,
   "metadata": {},
   "outputs": [],
   "source": [
    "compartments = PCP_target_scheme.model.initial_concentration[\"input1\"].compartments\n",
    "\n",
    "PCP_target_scheme.model.k_matrix[\"km1\"].matrix_as_markdown(compartments).replace(\"0.0000e+00\", \"\")"
   ]
  },
  {
   "cell_type": "code",
   "execution_count": null,
   "metadata": {},
   "outputs": [],
   "source": [
    "PCP_target_scheme = Scheme(\n",
    "    model=PCP_target_model_path,\n",
    "    parameters=PCP_target_parameters_path,\n",
    "    maximum_number_function_evaluations=4,\n",
    "    data={\"PCP_data\": PCP_data_path},\n",
    ")\n",
    "PCP_target_scheme.validate()"
   ]
  },
  {
   "cell_type": "code",
   "execution_count": null,
   "metadata": {},
   "outputs": [],
   "source": [
    "PCP_target_result2 = optimize(PCP_target_scheme)"
   ]
  },
  {
   "cell_type": "code",
   "execution_count": null,
   "metadata": {},
   "outputs": [],
   "source": [
    "PCP_target_result2"
   ]
  },
  {
   "cell_type": "code",
   "execution_count": null,
   "metadata": {},
   "outputs": [],
   "source": [
    "plot_overview(\n",
    "    PCP_target_result2,\n",
    "    figure_only=False,\n",
    "    nr_of_data_svd_vectors=3,\n",
    "    nr_of_residual_svd_vectors=1,\n",
    "    linlog=True,\n",
    "    linthresh=1,\n",
    ");"
   ]
  },
  {
   "cell_type": "markdown",
   "metadata": {},
   "source": [
    "After optimization the residuals have improved. However, the interpretability of the SADS of slowS1 (green) and to a lesser extent also S1 (blue) have deteriorated. Some more fine tuning with the help of spectral assumptions is needed. The interplay of the decay of slowS1 (via EET to Chl, and to GS), and Chl* annihilation is difficult to resolve."
   ]
  }
 ],
 "metadata": {
  "language_info": {
   "codemirror_mode": {
    "name": "ipython"
   },
   "file_extension": ".py",
   "mimetype": "text/x-python",
   "name": "python",
   "nbconvert_exporter": "python"
  }
 },
 "nbformat": 4,
 "nbformat_minor": 4
}
