{
 "cells": [
  {
   "cell_type": "markdown",
   "metadata": {},
   "source": [
    "# CK case study"
   ]
  },
  {
   "cell_type": "markdown",
   "metadata": {},
   "source": [
    "This case study concerns the fluorescence measured from the core of the phycobilisome antenna (abbreviated CK) of a cyanobacterium (Tian et al. 2012). The measurement and the global analysis are described in (Tian et al. 2012). The target analysis is based upon the model explained in (van Stokkum et al. 2018).\n",
    "\n",
    "van Stokkum IHM, Gwizdala M, Tian L, Snellenburg JJ, van Grondelle R, van Amerongen H, Berera R (2018) A functional compartmental model of the Synechocystis PCC 6803 phycobilisome. Photosynthesis Research 135:87-102. doi:10.1007/s11120-017-0424-5\n",
    "\n",
    "Tian L, Gwizdala M, van Stokkum IHM, Koehorst RBM, Kirilovsky D, van Amerongen H (2012) Picosecond Kinetics of Light Harvesting and Photoprotective Quenching in Wild-Type and Mutant Phycobilisomes Isolated from the Cyanobacterium Synechocystis PCC 6803. Biophysical Journal 102:1692-1700. doi: 10.1016/j.bpj.2012.03.008\n"
   ]
  },
  {
   "cell_type": "markdown",
   "metadata": {},
   "source": []
  },
  {
   "cell_type": "markdown",
   "metadata": {},
   "source": [
    "### Inspect data"
   ]
  },
  {
   "cell_type": "code",
   "execution_count": null,
   "metadata": {},
   "outputs": [],
   "source": [
    "from pyglotaran_extras import plot_data_overview\n",
    "\n",
    "CK_data_path = \"CKtr4U.ascii\"\n",
    "plot_data_overview(CK_data_path);"
   ]
  },
  {
   "cell_type": "markdown",
   "metadata": {},
   "source": [
    "## Global Analysis"
   ]
  },
  {
   "cell_type": "markdown",
   "metadata": {},
   "source": [
    "### Used model and parameters"
   ]
  },
  {
   "cell_type": "code",
   "execution_count": null,
   "metadata": {},
   "outputs": [],
   "source": [
    "from glotaran.utils.ipython import display_file\n",
    "\n",
    "CK_global_model_path = \"models/CK-global-model.yml\"\n",
    "CK_global_parameters_path = \"models/CK-global-parameters.yml\""
   ]
  },
  {
   "cell_type": "markdown",
   "metadata": {},
   "source": [
    "#### Model file"
   ]
  },
  {
   "cell_type": "code",
   "execution_count": null,
   "metadata": {},
   "outputs": [],
   "source": [
    "display_file(CK_global_model_path, syntax=\"yml\")"
   ]
  },
  {
   "cell_type": "markdown",
   "metadata": {},
   "source": [
    "#### Parameters file"
   ]
  },
  {
   "cell_type": "code",
   "execution_count": null,
   "metadata": {},
   "outputs": [],
   "source": [
    "display_file(CK_global_parameters_path, syntax=\"yml\")"
   ]
  },
  {
   "cell_type": "markdown",
   "metadata": {},
   "source": [
    "The four free parameters are the center (the location of the maximum of the IRF) and the width of the IRF, and the two kinetic parameters.\n",
    "Note that the dispersion parameters have been fixed, they could have been estimated from the data as well."
   ]
  },
  {
   "cell_type": "markdown",
   "metadata": {},
   "source": [
    "### Create scheme and optimize it"
   ]
  },
  {
   "cell_type": "code",
   "execution_count": null,
   "metadata": {},
   "outputs": [],
   "source": [
    "from glotaran.analysis.optimize import optimize\n",
    "from glotaran.project.scheme import Scheme\n",
    "\n",
    "CK_global_scheme = Scheme(\n",
    "    model=CK_global_model_path,\n",
    "    parameters=CK_global_parameters_path,\n",
    "    data={\"CK_data\": CK_data_path},\n",
    ")\n",
    "CK_global_scheme.validate()"
   ]
  },
  {
   "cell_type": "code",
   "execution_count": null,
   "metadata": {},
   "outputs": [],
   "source": [
    "CK_global_result = optimize(CK_global_scheme)"
   ]
  },
  {
   "cell_type": "code",
   "execution_count": null,
   "metadata": {},
   "outputs": [],
   "source": [
    "CK_global_result"
   ]
  },
  {
   "cell_type": "code",
   "execution_count": null,
   "metadata": {},
   "outputs": [],
   "source": [
    "CK_global_result.optimized_parameters"
   ]
  },
  {
   "cell_type": "markdown",
   "metadata": {},
   "source": [
    "### Result plots"
   ]
  },
  {
   "cell_type": "markdown",
   "metadata": {},
   "source": [
    "#### Fit quality"
   ]
  },
  {
   "cell_type": "code",
   "execution_count": null,
   "metadata": {},
   "outputs": [],
   "source": [
    "from pyglotaran_extras import plot_fitted_traces, select_plot_wavelengths\n",
    "\n",
    "wavelengths = select_plot_wavelengths(CK_global_result.data[\"CK_data\"])\n",
    "plot_fitted_traces(CK_global_result.data[\"CK_data\"], wavelengths);"
   ]
  },
  {
   "cell_type": "markdown",
   "metadata": {},
   "source": [
    "#### Overview"
   ]
  },
  {
   "cell_type": "code",
   "execution_count": null,
   "metadata": {},
   "outputs": [],
   "source": [
    "from pyglotaran_extras import plot_overview\n",
    "\n",
    "plot_overview(CK_global_result.data[\"CK_data\"], linlog=False, figure_only=False);"
   ]
  },
  {
   "cell_type": "markdown",
   "metadata": {},
   "source": [
    "## Target Analysis"
   ]
  },
  {
   "cell_type": "markdown",
   "metadata": {},
   "source": [
    "### Used model and parameters"
   ]
  },
  {
   "cell_type": "code",
   "execution_count": null,
   "metadata": {},
   "outputs": [],
   "source": [
    "CK_target_model_path = \"models/CK-target-model.yml\"\n",
    "CK_target_parameters_path = \"models/CK-target-parameters.yml\""
   ]
  },
  {
   "cell_type": "markdown",
   "metadata": {},
   "source": [
    "#### Model file"
   ]
  },
  {
   "cell_type": "code",
   "execution_count": null,
   "metadata": {},
   "outputs": [],
   "source": [
    "display_file(CK_target_model_path, syntax=\"yml\")"
   ]
  },
  {
   "cell_type": "markdown",
   "metadata": {},
   "source": [
    "#### Parameters file"
   ]
  },
  {
   "cell_type": "code",
   "execution_count": null,
   "metadata": {},
   "outputs": [],
   "source": [
    "display_file(CK_target_parameters_path, syntax=\"yml\")"
   ]
  },
  {
   "cell_type": "markdown",
   "metadata": {},
   "source": [
    "The four free parameters are the center (the location of the maximum of the IRF) and the width of the IRF, and the two kinetic parameters.\n",
    "Note that the dispersion parameters have been fixed, they could have been estimated from the data as well.\n",
    "Compartments 1, 2 and 3 contain the same type of pigments, and thus have identical SAS.\n",
    "Note that the first scaling parameter (0.75) is equal to the ratio of the number of pigments in the compartments 3 (18 pigments, cf. input3) and compartments 1 or 2 (24 pigments, cf. input s1_s2).\n",
    "The second scaling parameter (0.3) has been fixed so that the areas of the SAS are similar. It could have been estimated using an equal area constraint."
   ]
  },
  {
   "cell_type": "markdown",
   "metadata": {},
   "source": [
    "### Create scheme and optimize it"
   ]
  },
  {
   "cell_type": "code",
   "execution_count": null,
   "metadata": {},
   "outputs": [],
   "source": [
    "CK_target_scheme = Scheme(\n",
    "    model=CK_target_model_path,\n",
    "    parameters=CK_target_parameters_path,\n",
    "    data={\"CK_data\": CK_data_path},\n",
    ")\n",
    "CK_target_scheme.validate()"
   ]
  },
  {
   "cell_type": "code",
   "execution_count": null,
   "metadata": {},
   "outputs": [],
   "source": [
    "CK_target_result = optimize(CK_target_scheme)"
   ]
  },
  {
   "cell_type": "code",
   "execution_count": null,
   "metadata": {},
   "outputs": [],
   "source": [
    "CK_target_result"
   ]
  },
  {
   "cell_type": "markdown",
   "metadata": {},
   "source": [
    "### Result plots"
   ]
  },
  {
   "cell_type": "markdown",
   "metadata": {},
   "source": [
    "#### Fit quality"
   ]
  },
  {
   "cell_type": "code",
   "execution_count": null,
   "metadata": {},
   "outputs": [],
   "source": [
    "plot_fitted_traces(CK_target_result.data[\"CK_data\"], wavelengths);"
   ]
  },
  {
   "cell_type": "markdown",
   "metadata": {},
   "source": [
    "#### Overview"
   ]
  },
  {
   "cell_type": "code",
   "execution_count": null,
   "metadata": {},
   "outputs": [],
   "source": [
    "plot_overview(CK_target_result.data[\"CK_data\"], linlog=False, figure_only=False);"
   ]
  },
  {
   "cell_type": "code",
   "execution_count": null,
   "metadata": {},
   "outputs": [],
   "source": [
    "CK_target_result.optimized_parameters"
   ]
  },
  {
   "cell_type": "code",
   "execution_count": null,
   "metadata": {},
   "outputs": [],
   "source": [
    "compartments = CK_target_scheme.model.initial_concentration[\"input1\"].compartments\n",
    "\n",
    "CK_target_scheme.model.k_matrix[\"km1\"].matrix_as_markdown(compartments).replace(\n",
    "    \"0.0000e+00\", \"\"\n",
    ")"
   ]
  },
  {
   "cell_type": "code",
   "execution_count": null,
   "metadata": {},
   "outputs": [],
   "source": []
  }
 ],
 "metadata": {
  "kernelspec": {
   "display_name": "Python 3 (ipykernel)",
   "language": "python",
   "name": "python3"
  },
  "language_info": {
   "codemirror_mode": {
    "name": "ipython",
    "version": 3
   },
   "file_extension": ".py",
   "mimetype": "text/x-python",
   "name": "python",
   "nbconvert_exporter": "python",
   "pygments_lexer": "ipython3",
   "version": "3.8.5"
  }
 },
 "nbformat": 4,
 "nbformat_minor": 4
}
