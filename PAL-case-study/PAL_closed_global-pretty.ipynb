{
 "cells": [
  {
   "cell_type": "markdown",
   "metadata": {},
   "source": [
    "# PAL closed case study global analysis"
   ]
  },
  {
   "cell_type": "markdown",
   "metadata": {},
   "source": [
    "This case study concerns the fluorescence measured from the PAL mutant of a cyanobacterium, which contains only photosystem I (PSI) and photosystem II (PSII). With PSI the difference between open and closed reaction centers (RC) is negligible in the fluorescence, because both the oxidized and reduced RC efficiently quench the excitations. However, with PSII there is a huge difference, with closed RCs exhibiting a huge amount of recombination fluorescence. The measurement and the global analysis are described in ([Tian et al. 2013][tian2013]).\n",
    "The target analysis is based upon the model explained in ([van Stokkum 2018][vanstokkum2018]).\n",
    "\n",
    "[tian2013]: https://doi.org/10.1039/C3CP43813A \"Tian L, Farooq S, van Amerongen H (2013) Probing the picosecond kinetics of the photosystem II core complex in vivo. Physical Chemistry Chemical Physics 15 (9):3146-3154.\"\n",
    "[vanstokkum2018]: https://www.few.vu.nl/~ivo/pub/2018/2018GTAofLHandPQinvivo.pdf \"Systems biophysics: Global and target analysis of light harvesting and photochemical quenching in vivo. In: Croce R, van Grondelle R, van Amerongen H, van Stokkum I (eds) Light Harvesting in Photosynthesis. CRC Press, Boca Raton, pp 467-482.\""
   ]
  },
  {
   "cell_type": "markdown",
   "metadata": {},
   "source": [
    "### Inspect data"
   ]
  },
  {
   "cell_type": "code",
   "execution_count": null,
   "metadata": {},
   "outputs": [],
   "source": [
    "from pyglotaran_extras import plot_data_overview\n",
    "\n",
    "PAL_closed_data_path = (\n",
    "    \"PAL_DCMU_80uM_WL_SF_700_ma_tr2_gain50_100uW_590nmfilter_21C_400nm_AV_bc_sh_sel_620_830.ascii\"\n",
    ")\n",
    "plot_data_overview(PAL_closed_data_path, nr_of_data_svd_vectors=3, title=\"PAL closed\");"
   ]
  },
  {
   "cell_type": "markdown",
   "metadata": {},
   "source": [
    "## Global Analysis"
   ]
  },
  {
   "cell_type": "markdown",
   "metadata": {},
   "source": [
    "### Used model and parameters"
   ]
  },
  {
   "cell_type": "code",
   "execution_count": null,
   "metadata": {},
   "outputs": [],
   "source": [
    "from glotaran.utils.ipython import display_file\n",
    "\n",
    "PAL_closed_global_model_path = \"models/PAL_closed-global-model.yml\"\n",
    "PAL_closed_global_parameters_path = \"models/PAL_closed-global-parameters.yml\""
   ]
  },
  {
   "cell_type": "markdown",
   "metadata": {},
   "source": [
    "#### Model file"
   ]
  },
  {
   "cell_type": "code",
   "execution_count": null,
   "metadata": {},
   "outputs": [],
   "source": [
    "display_file(PAL_closed_global_model_path, syntax=\"yaml\")"
   ]
  },
  {
   "cell_type": "markdown",
   "metadata": {},
   "source": [
    "#### Parameters file"
   ]
  },
  {
   "cell_type": "code",
   "execution_count": null,
   "metadata": {},
   "outputs": [],
   "source": [
    "display_file(PAL_closed_global_parameters_path, syntax=\"yaml\")"
   ]
  },
  {
   "cell_type": "markdown",
   "metadata": {},
   "source": [
    "The free parameters are the four kinetic parameters and the IRF parameters. The IRF consists of a sum of two Gaussians with a common center. The IRF parameters are the center (the location of the maximum of the IRF) and the widths of the two Gaussians, and the relative amplitude of the second Gaussian.\n",
    "Note that two dispersion parameters (to describe the wavelength dependence of the IRF center with a parabola) have been used, which have been estimated from the data as well."
   ]
  },
  {
   "cell_type": "markdown",
   "metadata": {},
   "source": [
    "### Create scheme and optimize it"
   ]
  },
  {
   "cell_type": "code",
   "execution_count": null,
   "metadata": {},
   "outputs": [],
   "source": [
    "from glotaran.optimization.optimize import optimize\n",
    "from glotaran.project.scheme import Scheme\n",
    "\n",
    "PAL_closed_global_scheme = Scheme(\n",
    "    model=PAL_closed_global_model_path,\n",
    "    parameters=PAL_closed_global_parameters_path,\n",
    "    data={\"PAL_closed_data\": PAL_closed_data_path},\n",
    "    maximum_number_function_evaluations=11,\n",
    ")\n",
    "PAL_closed_global_scheme.validate()"
   ]
  },
  {
   "cell_type": "code",
   "execution_count": null,
   "metadata": {},
   "outputs": [],
   "source": [
    "compartments = PAL_closed_global_scheme.model.initial_concentration[\"input1\"].compartments\n",
    "\n",
    "PAL_closed_global_scheme.model.k_matrix[\"km1\"].matrix_as_markdown(compartments).replace(\n",
    "    \"0.0000e+00\", \"\"\n",
    ")"
   ]
  },
  {
   "cell_type": "code",
   "execution_count": null,
   "metadata": {},
   "outputs": [],
   "source": [
    "PAL_closed_global_result = optimize(PAL_closed_global_scheme)"
   ]
  },
  {
   "cell_type": "code",
   "execution_count": null,
   "metadata": {},
   "outputs": [],
   "source": [
    "PAL_closed_global_result"
   ]
  },
  {
   "cell_type": "code",
   "execution_count": null,
   "metadata": {},
   "outputs": [],
   "source": [
    "PAL_closed_global_result.optimized_parameters"
   ]
  },
  {
   "cell_type": "markdown",
   "metadata": {},
   "source": [
    "### Result plots"
   ]
  },
  {
   "cell_type": "markdown",
   "metadata": {},
   "source": [
    "#### Fit quality"
   ]
  },
  {
   "cell_type": "code",
   "execution_count": null,
   "metadata": {},
   "outputs": [],
   "source": [
    "from pyglotaran_extras import plot_fitted_traces, select_plot_wavelengths\n",
    "\n",
    "wavelengths = select_plot_wavelengths(\n",
    "    PAL_closed_global_result.data[\"PAL_closed_data\"], wavelength_range=(670, 750)\n",
    ")\n",
    "plot_fitted_traces(PAL_closed_global_result, wavelengths, linlog=True, linthresh=50);"
   ]
  },
  {
   "cell_type": "markdown",
   "metadata": {},
   "source": [
    "#### Overview"
   ]
  },
  {
   "cell_type": "code",
   "execution_count": null,
   "metadata": {},
   "outputs": [],
   "source": [
    "from pyglotaran_extras import plot_overview\n",
    "\n",
    "plot_overview(\n",
    "    PAL_closed_global_result,\n",
    "    linlog=False,\n",
    "    figure_only=False,\n",
    "    nr_of_data_svd_vectors=3,\n",
    "    nr_of_residual_svd_vectors=1,\n",
    ");"
   ]
  },
  {
   "cell_type": "code",
   "execution_count": null,
   "metadata": {},
   "outputs": [],
   "source": [
    "plot_overview(\n",
    "    PAL_closed_global_result,\n",
    "    figure_only=False,\n",
    "    nr_of_data_svd_vectors=3,\n",
    "    nr_of_residual_svd_vectors=1,\n",
    "    linlog=True,\n",
    "    linthresh=50,\n",
    ");"
   ]
  }
 ],
 "metadata": {
  "kernelspec": {
   "display_name": "Python 3 (ipykernel)",
   "language": "python",
   "name": "python3"
  },
  "language_info": {
   "codemirror_mode": {
    "name": "ipython",
    "version": 3
   },
   "file_extension": ".py",
   "mimetype": "text/x-python",
   "name": "python",
   "nbconvert_exporter": "python",
   "pygments_lexer": "ipython3",
   "version": "3.8.5"
  }
 },
 "nbformat": 4,
 "nbformat_minor": 4
}
