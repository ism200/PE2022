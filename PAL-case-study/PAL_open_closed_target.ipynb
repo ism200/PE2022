{
 "cells": [
  {
   "cell_type": "markdown",
   "metadata": {},
   "source": [
    "# PAL case study target analysis\n",
    "This case study concerns the fluorescence measured from the PAL mutant of a cyanobacterium, which contains only photosystem I (PSI) and photosystem II (PSII). With PSI the difference between open and closed reaction centers (RC) is negligible in the fluorescence, because both the oxidized and reduced RC efficiently quench the excitations. However, with PSII there is a huge difference, with closed RCs exhibiting a huge amount of recombination fluorescence. The measurement and the global analysis are described in (Tian et al. 2013). The simultaneous target analysis of PAL in the open and closed states is based upon the model explained in (van Stokkum 2018).\n",
    "\n",
    "Tian L, Farooq S, van Amerongen H (2013) Probing the picosecond kinetics of the photosystem II core complex in vivo. Physical Chemistry Chemical Physics 15 (9):3146-3154.\n",
    "\n",
    "van Stokkum I (2018) Systems biophysics: Global and target analysis of light harvesting and photochemical quenching in vivo. In: Croce R, van Grondelle R, van Amerongen H, van Stokkum I (eds) Light Harvesting in Photosynthesis. CRC Press, Boca Raton, pp 467-482."
   ]
  },
  {
   "cell_type": "markdown",
   "metadata": {},
   "source": [
    "### Plotting functions ([`pyglotaran_extras`](https://github.com/s-weigand/pyglotaran-extras/commit/20da3593105fb839f86e668dc12dc9ca87c3b9ce) + `matplotlib`)"
   ]
  },
  {
   "cell_type": "code",
   "execution_count": null,
   "metadata": {
    "tags": []
   },
   "outputs": [],
   "source": [
    "import matplotlib.pyplot as plt\n",
    "from pyglotaran_extras.plotting.plot_overview import plot_overview\n",
    "from pyglotaran_extras.plotting.style import PlotStyle\n",
    "\n",
    "plot_style = PlotStyle()\n",
    "plt.rc(\"axes\", prop_cycle=plot_style.cycler)\n",
    "plt.rcParams[\"figure.figsize\"] = (21, 14)"
   ]
  },
  {
   "cell_type": "markdown",
   "metadata": {},
   "source": [
    "### Analysis functions"
   ]
  },
  {
   "cell_type": "code",
   "execution_count": null,
   "metadata": {},
   "outputs": [],
   "source": [
    "from glotaran.analysis.optimize import optimize\n",
    "from glotaran.io import load_dataset, load_model, load_parameters\n",
    "from glotaran.project.scheme import Scheme"
   ]
  },
  {
   "cell_type": "markdown",
   "metadata": {},
   "source": [
    "# Simultaneous Target Analysis of PAL in the open and in the closed state"
   ]
  },
  {
   "cell_type": "markdown",
   "metadata": {},
   "source": [
    "### Read PAL data"
   ]
  },
  {
   "cell_type": "code",
   "execution_count": null,
   "metadata": {},
   "outputs": [],
   "source": [
    "from pyglotaran_extras import plot_data_overview\n",
    "\n",
    "dataset_open = load_dataset(\n",
    "    \"PAL_700_ma_tr2_gain50_10uW_590nmfilter_21C_400nm_AV_bc_sh_sel_620_830.ascii\"\n",
    ")\n",
    "dataset_closed = load_dataset(\n",
    "    \"PAL_DCMU_80uM_WL_SF_700_ma_tr2_gain50_100uW_590nmfilter_21C_400nm_AV_bc_sh_sel_620_830.ascii\"\n",
    ")\n",
    "plot_data_overview(dataset_open, nr_of_data_svd_vectors=3, title=\"PAL open\")\n",
    "plot_data_overview(dataset_closed, nr_of_data_svd_vectors=3, title=\"PAL closed\");"
   ]
  },
  {
   "cell_type": "markdown",
   "metadata": {},
   "source": [
    "### Load model and parameters"
   ]
  },
  {
   "cell_type": "code",
   "execution_count": null,
   "metadata": {},
   "outputs": [],
   "source": [
    "PAL_open_closed_target_model = load_model(\"models/PAL-open-closed-target-model.yml\")\n",
    "PAL_open_closed_target_parameters = load_parameters(\"models/PAL-open-closed-target-parameters.yml\")\n",
    "PAL_open_closed_target_model.validate(parameters=PAL_open_closed_target_parameters)"
   ]
  },
  {
   "cell_type": "code",
   "execution_count": null,
   "metadata": {},
   "outputs": [],
   "source": [
    "PAL_open_closed_target_model"
   ]
  },
  {
   "cell_type": "markdown",
   "metadata": {},
   "source": [
    "### Create scheme and optimize it"
   ]
  },
  {
   "cell_type": "code",
   "execution_count": null,
   "metadata": {},
   "outputs": [],
   "source": [
    "PAL_open_closed_target_scheme = Scheme(\n",
    "    PAL_open_closed_target_model,\n",
    "    PAL_open_closed_target_parameters,\n",
    "    {\"dataset_open\": dataset_open, \"dataset_closed\": dataset_closed},\n",
    "    maximum_number_function_evaluations=5,\n",
    ")\n",
    "PAL_open_closed_target_result = optimize(PAL_open_closed_target_scheme)"
   ]
  },
  {
   "cell_type": "code",
   "execution_count": null,
   "metadata": {},
   "outputs": [],
   "source": [
    "PAL_open_closed_target_result"
   ]
  },
  {
   "cell_type": "code",
   "execution_count": null,
   "metadata": {},
   "outputs": [],
   "source": [
    "PAL_open_closed_target_result.data[\"dataset_open\"]"
   ]
  },
  {
   "cell_type": "code",
   "execution_count": null,
   "metadata": {},
   "outputs": [],
   "source": [
    "compartments = PAL_open_closed_target_scheme.model.initial_concentration[\"input1\"].compartments\n",
    "\n",
    "PAL_open_closed_target_scheme.model.k_matrix[\"km1\"].matrix_as_markdown(compartments).replace(\n",
    "    \"0.0000e+00\", \"\"\n",
    ")"
   ]
  },
  {
   "cell_type": "code",
   "execution_count": null,
   "metadata": {},
   "outputs": [],
   "source": [
    "PAL_open_closed_target_scheme.model.k_matrix[\"km_open\"].matrix_as_markdown(compartments).replace(\n",
    "    \"0.0000e+00\", \"\"\n",
    ")"
   ]
  },
  {
   "cell_type": "code",
   "execution_count": null,
   "metadata": {},
   "outputs": [],
   "source": [
    "PAL_open_closed_target_scheme.model.k_matrix[\"km_closed\"].matrix_as_markdown(compartments).replace(\n",
    "    \"0.0000e+00\", \"\"\n",
    ")"
   ]
  },
  {
   "cell_type": "code",
   "execution_count": null,
   "metadata": {},
   "outputs": [],
   "source": [
    "PAL_open_closed_target_result.data[\"dataset_closed\"]"
   ]
  },
  {
   "cell_type": "code",
   "execution_count": null,
   "metadata": {},
   "outputs": [],
   "source": [
    "PAL_open_closed_target_result.data[\"dataset_closed\"].component_PS1"
   ]
  },
  {
   "cell_type": "code",
   "execution_count": null,
   "metadata": {},
   "outputs": [],
   "source": [
    "PAL_open_closed_target_result.data[\"dataset_closed\"]"
   ]
  },
  {
   "cell_type": "markdown",
   "metadata": {},
   "source": [
    "### Result plots"
   ]
  },
  {
   "cell_type": "code",
   "execution_count": null,
   "metadata": {},
   "outputs": [],
   "source": [
    "plot_overview(\n",
    "    PAL_open_closed_target_result.data[\"dataset_closed\"],\n",
    "    figure_only=False,\n",
    "    nr_of_data_svd_vectors=3,\n",
    "    nr_of_residual_svd_vectors=1,\n",
    "    linlog=True,\n",
    "    linthresh=50,\n",
    ");"
   ]
  },
  {
   "cell_type": "code",
   "execution_count": null,
   "metadata": {},
   "outputs": [],
   "source": [
    "plot_overview(PAL_open_closed_target_result.data[\"dataset_open\"], linlog=False, figure_only=False);"
   ]
  },
  {
   "cell_type": "code",
   "execution_count": null,
   "metadata": {},
   "outputs": [],
   "source": [
    "PAL_open_closed_target_result.optimized_parameters"
   ]
  },
  {
   "cell_type": "code",
   "execution_count": null,
   "metadata": {},
   "outputs": [],
   "source": [
    "from pyglotaran_extras import plot_fitted_traces, select_plot_wavelengths\n",
    "\n",
    "result1 = PAL_open_closed_target_result.data[\"dataset_open\"]\n",
    "result2 = PAL_open_closed_target_result.data[\"dataset_closed\"]\n",
    "allresults = [result1, result2]\n",
    "wavelengths = select_plot_wavelengths(result1, wavelength_range=(670, 750))\n",
    "fig3tr, axes = plot_fitted_traces(allresults, wavelengths, linlog=True, linthresh=50)"
   ]
  }
 ],
 "metadata": {
  "kernelspec": {
   "display_name": "Python 3",
   "language": "python",
   "name": "python3"
  },
  "language_info": {
   "codemirror_mode": {
    "name": "ipython",
    "version": 3
   },
   "file_extension": ".py",
   "mimetype": "text/x-python",
   "name": "python",
   "nbconvert_exporter": "python",
   "pygments_lexer": "ipython3",
   "version": "3.8.5"
  }
 },
 "nbformat": 4,
 "nbformat_minor": 4
}
