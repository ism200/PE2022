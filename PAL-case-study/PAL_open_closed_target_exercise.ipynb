{
 "cells": [
  {
   "cell_type": "markdown",
   "metadata": {},
   "source": [
    "# PAL case study target analysis\n",
    "This case study concerns the fluorescence measured from the PAL mutant of a cyanobacterium, which contains only photosystem I (PSI) and photosystem II (PSII). With PSI the difference between open and closed reaction centers (RC) is negligible in the fluorescence, because both the oxidized and reduced RC efficiently quench the excitations. However, with PSII there is a huge difference, with closed RCs exhibiting a huge amount of recombination fluorescence. The measurement and the global analysis are described in ([Tian et al. 2013][tian2013]).\n",
    "The target analysis is based upon the model explained in ([van Stokkum 2018][vanstokkum2018]).\n",
    "\n",
    "[tian2013]: https://doi.org/10.1039/C3CP43813A \"Tian L, Farooq S, van Amerongen H (2013) Probing the picosecond kinetics of the photosystem II core complex in vivo. Physical Chemistry Chemical Physics 15 (9):3146-3154.\"\n",
    "[vanstokkum2018]: https://www.few.vu.nl/~ivo/pub/2018/2018GTAofLHandPQinvivo.pdf \"Systems biophysics: Global and target analysis of light harvesting and photochemical quenching in vivo. In: Croce R, van Grondelle R, van Amerongen H, van Stokkum I (eds) Light Harvesting in Photosynthesis. CRC Press, Boca Raton, pp 467-482.\""
   ]
  },
  {
   "cell_type": "markdown",
   "metadata": {},
   "source": [
    "# Simultaneous Target Analysis of PAL in the open and in the closed state"
   ]
  },
  {
   "cell_type": "markdown",
   "metadata": {},
   "source": [
    "### Read PAL data"
   ]
  },
  {
   "cell_type": "code",
   "execution_count": null,
   "metadata": {},
   "outputs": [],
   "source": [
    "from pyglotaran_extras import plot_data_overview\n",
    "\n",
    "dataset_open_path = \"PAL_700_ma_tr2_gain50_10uW_590nmfilter_21C_400nm_AV_bc_sh_sel_620_830.ascii\"\n",
    "dataset_closed_path = (\n",
    "    \"PAL_DCMU_80uM_WL_SF_700_ma_tr2_gain50_100uW_590nmfilter_21C_400nm_AV_bc_sh_sel_620_830.ascii\"\n",
    ")\n",
    "plot_data_overview(dataset_open_path, nr_of_data_svd_vectors=3, title=\"PAL open\")\n",
    "plot_data_overview(dataset_closed_path, nr_of_data_svd_vectors=3, title=\"PAL closed\");"
   ]
  },
  {
   "cell_type": "markdown",
   "metadata": {},
   "source": [
    "### Used model and parameters"
   ]
  },
  {
   "cell_type": "code",
   "execution_count": null,
   "metadata": {},
   "outputs": [],
   "source": [
    "from glotaran.utils.ipython import display_file\n",
    "\n",
    "PAL_open_closed_target_model_path = \"models/PAL-open-closed-target_exercise-model.yml\"\n",
    "PAL_open_closed_target_parameters_path = \"models/PAL-open-closed-target_exercise-parameters.yml\""
   ]
  },
  {
   "cell_type": "markdown",
   "metadata": {},
   "source": [
    "#### Model file"
   ]
  },
  {
   "cell_type": "code",
   "execution_count": null,
   "metadata": {},
   "outputs": [],
   "source": [
    "display_file(PAL_open_closed_target_model_path, syntax=\"yaml\")"
   ]
  },
  {
   "cell_type": "markdown",
   "metadata": {},
   "source": [
    "#### Parameters file"
   ]
  },
  {
   "cell_type": "markdown",
   "metadata": {},
   "source": [
    "Exercise 1: Make sure you thoroughly understand the target model that is applied here. Choose the right residual_function.\n",
    "\n",
    "Describe the model qualitatively in your own words.\n",
    "\n",
    "Exercise 2: Study the parameters file carefully. Insert the missing starting values from GTAofLHandPQinvivo.pdf. Comment on the amount of free parameters. Are they all indispensable?"
   ]
  },
  {
   "cell_type": "code",
   "execution_count": null,
   "metadata": {},
   "outputs": [],
   "source": [
    "display_file(PAL_open_closed_target_parameters_path, syntax=\"yaml\")"
   ]
  },
  {
   "cell_type": "markdown",
   "metadata": {},
   "source": [
    "### Create scheme and optimize it"
   ]
  },
  {
   "cell_type": "code",
   "execution_count": null,
   "metadata": {},
   "outputs": [],
   "source": [
    "from glotaran.project.scheme import Scheme\n",
    "\n",
    "PAL_open_closed_target_scheme = Scheme(\n",
    "    PAL_open_closed_target_model_path,\n",
    "    PAL_open_closed_target_parameters_path,\n",
    "    {\"dataset_open\": dataset_open_path, \"dataset_closed\": dataset_closed_path},\n",
    "    maximum_number_function_evaluations=5,\n",
    ")"
   ]
  },
  {
   "cell_type": "code",
   "execution_count": null,
   "metadata": {},
   "outputs": [],
   "source": [
    "from glotaran.optimization.optimize import optimize\n",
    "\n",
    "PAL_open_closed_target_result = optimize(PAL_open_closed_target_scheme)"
   ]
  },
  {
   "cell_type": "code",
   "execution_count": null,
   "metadata": {},
   "outputs": [],
   "source": [
    "PAL_open_closed_target_result"
   ]
  },
  {
   "cell_type": "code",
   "execution_count": null,
   "metadata": {},
   "outputs": [],
   "source": [
    "PAL_open_closed_target_result.data[\"dataset_open\"]"
   ]
  },
  {
   "cell_type": "code",
   "execution_count": null,
   "metadata": {},
   "outputs": [],
   "source": [
    "compartments = PAL_open_closed_target_scheme.model.initial_concentration[\"input1\"].compartments\n",
    "\n",
    "PAL_open_closed_target_scheme.model.k_matrix[\"km1\"].matrix_as_markdown(compartments).replace(\n",
    "    \"0.0000e+00\", \"\"\n",
    ")"
   ]
  },
  {
   "cell_type": "code",
   "execution_count": null,
   "metadata": {},
   "outputs": [],
   "source": [
    "PAL_open_closed_target_scheme.model.k_matrix[\"km_open\"].matrix_as_markdown(compartments).replace(\n",
    "    \"0.0000e+00\", \"\"\n",
    ")"
   ]
  },
  {
   "cell_type": "code",
   "execution_count": null,
   "metadata": {},
   "outputs": [],
   "source": [
    "PAL_open_closed_target_scheme.model.k_matrix[\"km_closed\"].matrix_as_markdown(compartments).replace(\n",
    "    \"0.0000e+00\", \"\"\n",
    ")"
   ]
  },
  {
   "cell_type": "code",
   "execution_count": null,
   "metadata": {},
   "outputs": [],
   "source": [
    "from show_a_matrix import show_a_matrix\n",
    "\n",
    "show_a_matrix(PAL_open_closed_target_result)"
   ]
  },
  {
   "cell_type": "markdown",
   "metadata": {},
   "source": [
    "### Result plots"
   ]
  },
  {
   "cell_type": "markdown",
   "metadata": {},
   "source": [
    "#### Fit quality"
   ]
  },
  {
   "cell_type": "code",
   "execution_count": null,
   "metadata": {},
   "outputs": [],
   "source": [
    "from pyglotaran_extras import plot_fitted_traces, select_plot_wavelengths\n",
    "\n",
    "wavelengths = select_plot_wavelengths(\n",
    "    PAL_open_closed_target_result.data[\"dataset_open\"], wavelength_range=(670, 750)\n",
    ")\n",
    "fig3tr, axes = plot_fitted_traces(\n",
    "    PAL_open_closed_target_result, wavelengths, linlog=True, linthresh=50\n",
    ")"
   ]
  },
  {
   "cell_type": "markdown",
   "metadata": {},
   "source": [
    "#### Overview"
   ]
  },
  {
   "cell_type": "code",
   "execution_count": null,
   "metadata": {},
   "outputs": [],
   "source": [
    "from pyglotaran_extras import plot_overview\n",
    "\n",
    "plot_overview(\n",
    "    PAL_open_closed_target_result.data[\"dataset_closed\"],\n",
    "    figure_only=False,\n",
    "    nr_of_data_svd_vectors=3,\n",
    "    nr_of_residual_svd_vectors=1,\n",
    "    linlog=True,\n",
    "    linthresh=50,\n",
    ");"
   ]
  },
  {
   "cell_type": "code",
   "execution_count": null,
   "metadata": {},
   "outputs": [],
   "source": [
    "plot_overview(PAL_open_closed_target_result.data[\"dataset_open\"], linlog=False, figure_only=False);"
   ]
  },
  {
   "cell_type": "markdown",
   "metadata": {},
   "source": [
    "Exercise 3: Comment on the interpretation of the SAS, with the help of the literature, and relate this to the target model used."
   ]
  },
  {
   "cell_type": "markdown",
   "metadata": {},
   "source": [
    "## Dispersion curves"
   ]
  },
  {
   "cell_type": "code",
   "execution_count": null,
   "metadata": {},
   "outputs": [],
   "source": [
    "PAL_open_closed_target_result.data[\"dataset_open\"].data.sel(time=slice(90, 150)).plot()\n",
    "PAL_open_closed_target_result.data[\"dataset_open\"].irf_center_location.plot.line(\n",
    "    x=\"spectral\", add_legend=False\n",
    ")"
   ]
  },
  {
   "cell_type": "code",
   "execution_count": null,
   "metadata": {},
   "outputs": [],
   "source": [
    "PAL_open_closed_target_result.data[\"dataset_closed\"].data.sel(time=slice(110, 170)).plot()\n",
    "PAL_open_closed_target_result.data[\"dataset_closed\"].irf_center_location.plot.line(\n",
    "    x=\"spectral\", add_legend=False\n",
    ")"
   ]
  },
  {
   "cell_type": "code",
   "execution_count": null,
   "metadata": {},
   "outputs": [],
   "source": [
    "PAL_open_closed_target_result.optimized_parameters"
   ]
  }
 ],
 "metadata": {
  "language_info": {
   "codemirror_mode": {
    "name": "ipython"
   },
   "file_extension": ".py",
   "mimetype": "text/x-python",
   "name": "python",
   "nbconvert_exporter": "python"
  }
 },
 "nbformat": 4,
 "nbformat_minor": 4
}
