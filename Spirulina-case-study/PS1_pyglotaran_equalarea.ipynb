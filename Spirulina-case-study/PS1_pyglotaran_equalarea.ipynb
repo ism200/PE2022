{
 "cells": [
  {
   "cell_type": "markdown",
   "id": "9948d021-f571-47d0-8f1b-1fd0380cf8be",
   "metadata": {},
   "source": [
    "# Case study of Spirulina trimeric PS-I cores"
   ]
  },
  {
   "cell_type": "markdown",
   "id": "01aa66ff",
   "metadata": {},
   "source": [
    "This case study concerns the fluorescence measured from Spirulina trimeric photosystem I (PS-I) cores. The measurement, the global and target analysis are described in ([Gobets et al. 2001][gobets2001]). The estimation of the equilibria with the help of an equal area penalty is explained in ([Snellenburg et al. 2013][snellenburg2013]).\n",
    "\n",
    "[gobets2001]: https://doi.org/10.1016/S0006-3495(01)75709-8 \"Gobets B, van Stokkum IHM, Rogner M, Kruip J, Schlodder E, Karapetyan NV, Dekker JP, van Grondelle R (2001) Time-resolved fluorescence emission measurements of photosystem I particles of various cyanobacteria: A unified compartmental model. Biophysical Journal 81 (1):407-424.\"\n",
    "[snellenburg2013]: https://doi.org/10.1021/jp4031283 \"Snellenburg JJ, Dekker JP, van Grondelle R, van Stokkum IHM (2013) Functional Compartmental Modeling of the Photosystems in the Thylakoid Membrane at 77 K. The Journal of Physical Chemistry B 117 (38):11363-11371.\""
   ]
  },
  {
   "cell_type": "markdown",
   "id": "46948df8",
   "metadata": {},
   "source": [
    "# Global analysis\n",
    "Estimation of the lifetimes, assuming input via a Soret compartment with zero SAS in the Qy region."
   ]
  },
  {
   "cell_type": "markdown",
   "id": "06ccb174-fd24-4cc6-96d3-4b001f63a59a",
   "metadata": {},
   "source": [
    "### Read and inspect data"
   ]
  },
  {
   "cell_type": "code",
   "execution_count": null,
   "id": "02197bbd-129f-4e9e-868e-837511a6008c",
   "metadata": {},
   "outputs": [],
   "source": [
    "from pyglotaran_extras import plot_data_overview\n",
    "\n",
    "data_path = \"streakdata.ascii\"\n",
    "plot_data_overview(data_path, nr_of_data_svd_vectors=4);"
   ]
  },
  {
   "cell_type": "markdown",
   "id": "bb9d5216",
   "metadata": {},
   "source": [
    "## Global Analysis"
   ]
  },
  {
   "cell_type": "markdown",
   "id": "3dd90d10",
   "metadata": {},
   "source": [
    "### Used model and parameters"
   ]
  },
  {
   "cell_type": "code",
   "execution_count": null,
   "id": "d2c34c85",
   "metadata": {},
   "outputs": [],
   "source": [
    "from glotaran.utils.ipython import display_file\n",
    "\n",
    "global_model_path = \"models/global-model.yml\"\n",
    "global_parameters_path = \"models/global-parameters.yml\""
   ]
  },
  {
   "cell_type": "markdown",
   "id": "a0ca60b3",
   "metadata": {},
   "source": [
    "#### Model file"
   ]
  },
  {
   "cell_type": "code",
   "execution_count": null,
   "id": "53db2b0a",
   "metadata": {},
   "outputs": [],
   "source": [
    "display_file(global_model_path, syntax=\"yaml\")"
   ]
  },
  {
   "cell_type": "markdown",
   "id": "3326a1bb",
   "metadata": {},
   "source": [
    "#### Parameters file"
   ]
  },
  {
   "cell_type": "code",
   "execution_count": null,
   "id": "b9bddb23",
   "metadata": {},
   "outputs": [],
   "source": [
    "display_file(global_parameters_path, syntax=\"yaml\")"
   ]
  },
  {
   "cell_type": "markdown",
   "id": "454b7b1f",
   "metadata": {},
   "source": [
    "The free parameters are the kinetic parameters and the IRF parameters. The IRF consists of one Gaussian. The IRF parameters are the center (the location of the maximum of the IRF) and the width of the Gaussian."
   ]
  },
  {
   "cell_type": "markdown",
   "id": "8c986886",
   "metadata": {},
   "source": [
    "### Create scheme and optimize it"
   ]
  },
  {
   "cell_type": "code",
   "execution_count": null,
   "id": "ff90eb84",
   "metadata": {},
   "outputs": [],
   "source": [
    "from glotaran.project.scheme import Scheme\n",
    "\n",
    "global_scheme = Scheme(\n",
    "    model=global_model_path,\n",
    "    parameters=global_parameters_path,\n",
    "    data={\"dataset1\": data_path},\n",
    "    maximum_number_function_evaluations=11,\n",
    ")\n",
    "global_scheme.validate()"
   ]
  },
  {
   "cell_type": "code",
   "execution_count": null,
   "id": "9436cee8",
   "metadata": {},
   "outputs": [],
   "source": [
    "compartments = global_scheme.model.initial_concentration[\"input1\"].compartments\n",
    "\n",
    "global_scheme.model.k_matrix[\"km1\"].matrix_as_markdown(compartments).replace(\"0.0000e+00\", \"\")"
   ]
  },
  {
   "cell_type": "code",
   "execution_count": null,
   "id": "f7e86e6d",
   "metadata": {},
   "outputs": [],
   "source": [
    "from glotaran.optimization.optimize import optimize\n",
    "\n",
    "global_result = optimize(global_scheme)"
   ]
  },
  {
   "cell_type": "code",
   "execution_count": null,
   "id": "0db684e6",
   "metadata": {},
   "outputs": [],
   "source": [
    "global_result"
   ]
  },
  {
   "cell_type": "code",
   "execution_count": null,
   "id": "efe82631",
   "metadata": {},
   "outputs": [],
   "source": [
    "global_result.optimized_parameters"
   ]
  },
  {
   "cell_type": "markdown",
   "id": "4341d650",
   "metadata": {},
   "source": [
    "### Result plots"
   ]
  },
  {
   "cell_type": "markdown",
   "id": "b864f83e",
   "metadata": {},
   "source": [
    "#### Fit quality"
   ]
  },
  {
   "cell_type": "code",
   "execution_count": null,
   "id": "ab83c795",
   "metadata": {},
   "outputs": [],
   "source": [
    "from pyglotaran_extras import plot_fitted_traces, select_plot_wavelengths\n",
    "\n",
    "wavelengths = select_plot_wavelengths(global_result.data[\"dataset1\"], wavelength_range=(670, 750))\n",
    "plot_fitted_traces(global_result, wavelengths, linlog=True, linthresh=20);"
   ]
  },
  {
   "cell_type": "markdown",
   "id": "f3fbb830",
   "metadata": {},
   "source": [
    "#### Overview"
   ]
  },
  {
   "cell_type": "code",
   "execution_count": null,
   "id": "b355f579",
   "metadata": {},
   "outputs": [],
   "source": [
    "from pyglotaran_extras import plot_overview\n",
    "\n",
    "plot_overview(\n",
    "    global_result,\n",
    "    linlog=False,\n",
    "    figure_only=False,\n",
    "    nr_of_data_svd_vectors=4,\n",
    "    nr_of_residual_svd_vectors=1,\n",
    ");"
   ]
  },
  {
   "cell_type": "markdown",
   "id": "7f344845",
   "metadata": {},
   "source": [
    "# Target analysis\n",
    "Estimation of the equilibria between the Bulk and Red Chl compartments with an equal area penalty."
   ]
  },
  {
   "cell_type": "markdown",
   "id": "f19a6b57-48b4-4a5a-83bd-edbd8cf9d45f",
   "metadata": {},
   "source": [
    "## Target analysis\n",
    "\n",
    "Theoretical background from ``compartmental_models.pdf``\n",
    "\n",
    "![model_scheme](./target_scheme.jpg)\n",
    "\n",
    "\n",
    "Concentration vector\n",
    "\n",
    "$$c(t)= \\begin{bmatrix} S(t) & B(t) & R_1(t) & R_2(t) & F(t)\\end{bmatrix}^T$$\n",
    "\n",
    "The concentration function correspond to\n",
    "\n",
    "| ***Function name***    | ***S(t)***   | ***B(t)***   | ***R_1(t)***   | ***R_2(t)***   | ***F(t)***   |\n",
    "|------------------------|--------------|--------------|----------------|----------------|--------------|\n",
    "| **Name in the schema** | Soret        | Bulk         | Red1           | Red2           | Free         |\n",
    "\n",
    "\n",
    "Differential equation\n",
    "\n",
    "$$\\dfrac{\\mathrm{d}}{\\mathrm{dt}}c(t) = \\mathbf{K}c(t)+j(t)$$\n",
    "\n",
    "Input function\n",
    "\n",
    "$$j(t) = i(t) \\begin{bmatrix} 1&0&0&0&0\\end{bmatrix}^T$$\n",
    "\n",
    "Transfer maxtrix $\\mathbf{K}$\n",
    "\n",
    "$$\n",
    "\\mathbf{K} = \\begin{bmatrix} \n",
    "    -(k_{21} + k_{31} + k_{41} + k_{51}) &                          &                   &                  &       \\\\ \n",
    "    k_{21}                               & -(k_T + k_{32} + k_{42}) & k_{23}            & k_{24}           &       \\\\\n",
    "    k_{31}                               &  k_{32}                  & -(k_{F} + k_{23}) &                  &       \\\\\n",
    "    k_{41}                               &  k_{42}                  &                   & -(k_{F} + k_{24}) &      \\\\\n",
    "    k_{51}                               &                          &                   &                  & k_{F} \\\\\n",
    "    \\end{bmatrix}\n",
    "$$\n",
    "\n",
    "- $k_T$: effective rate constantof Chl, T stands for photochemical Trapping of the excitation energy\n",
    "- $k_F$: natural decay rate of free Chl, F stands for Fluorescence"
   ]
  },
  {
   "cell_type": "markdown",
   "id": "1348d2e0",
   "metadata": {},
   "source": [
    "# Target analysis\n",
    "Estimation of the equilibria between the Bulk and Red Chl compartments with an equal area penalty."
   ]
  },
  {
   "cell_type": "markdown",
   "id": "fatal-female",
   "metadata": {},
   "source": [
    "### Reduced K-matrix\n",
    "\n",
    "$$\n",
    "\\mathbf{K} = \\begin{bmatrix} \n",
    "           &        &        &        &       \\\\ \n",
    "    k_{21} & k_T    & k_{23} & k_{24} &       \\\\\n",
    "    k_{31} & k_{32} & k_{F}  &        &       \\\\\n",
    "    k_{41} & k_{42} &        & k_{F}  &       \\\\\n",
    "    k_{51} &        &        &        & k_{F} \\\\\n",
    "    \\end{bmatrix}\n",
    "$$\n",
    "\n",
    "### Reduced K-matrix ignoring input to Red1 and Red2\n",
    "\n",
    "$$\n",
    "\\mathbf{K} = \\begin{bmatrix} \n",
    "           &        &        &        &       \\\\ \n",
    "    k_{21} & k_T    & k_{23} & k_{24} &       \\\\\n",
    "           & k_{32} & k_{F}  &        &       \\\\\n",
    "           & k_{42} &        & k_{F}  &       \\\\\n",
    "    k_{51} &        &        &        & k_{F} \\\\\n",
    "    \\end{bmatrix}\n",
    "$$\n",
    "\n",
    "With the rate relations:\n",
    "\n",
    "- $k_{23} = a_1~k_{32}$\n",
    "- $k_{24} = a_2~k_{42}$"
   ]
  },
  {
   "cell_type": "markdown",
   "id": "aging-thursday",
   "metadata": {},
   "source": [
    "### equal_area-target-model.yml"
   ]
  },
  {
   "cell_type": "code",
   "execution_count": null,
   "id": "minimal-fairy",
   "metadata": {},
   "outputs": [],
   "source": [
    "display_file(\"models/equal_area-target-model.yml\", syntax=\"yaml\")"
   ]
  },
  {
   "cell_type": "markdown",
   "id": "scenic-exclusion",
   "metadata": {},
   "source": [
    "### equal_area-target-parameters.yml"
   ]
  },
  {
   "cell_type": "code",
   "execution_count": null,
   "id": "veterinary-island",
   "metadata": {},
   "outputs": [],
   "source": [
    "display_file(\"models/equal_area-target-parameters.yml\", syntax=\"yaml\")"
   ]
  },
  {
   "cell_type": "markdown",
   "id": "plain-bibliography",
   "metadata": {},
   "source": [
    "### Create scheme and optimize it"
   ]
  },
  {
   "cell_type": "code",
   "execution_count": null,
   "id": "billion-emerald",
   "metadata": {},
   "outputs": [],
   "source": [
    "target_scheme = Scheme(\n",
    "    \"models/equal_area-target-model.yml\",\n",
    "    \"models/equal_area-target-parameters.yml\",\n",
    "    {\"dataset1\": data_path},\n",
    "    maximum_number_function_evaluations=7,\n",
    ")\n",
    "target_scheme.validate()"
   ]
  },
  {
   "cell_type": "code",
   "execution_count": null,
   "id": "1aeb8fd7",
   "metadata": {},
   "outputs": [],
   "source": [
    "compartments = target_scheme.model.initial_concentration[\"input1\"].compartments\n",
    "\n",
    "target_scheme.model.k_matrix[\"km1\"].matrix_as_markdown(compartments).replace(\"0.0000e+00\", \"\")"
   ]
  },
  {
   "cell_type": "code",
   "execution_count": null,
   "id": "8e4b4be4",
   "metadata": {},
   "outputs": [],
   "source": [
    "target_result = optimize(target_scheme)"
   ]
  },
  {
   "cell_type": "code",
   "execution_count": null,
   "id": "decent-channels",
   "metadata": {},
   "outputs": [],
   "source": [
    "target_result.data[\"dataset1\"]"
   ]
  },
  {
   "cell_type": "markdown",
   "id": "exclusive-register",
   "metadata": {},
   "source": [
    "### Result plots"
   ]
  },
  {
   "cell_type": "code",
   "execution_count": null,
   "id": "current-conservation",
   "metadata": {},
   "outputs": [],
   "source": [
    "figure, axes = plot_overview(\n",
    "    target_result,\n",
    "    nr_of_data_svd_vectors=4,\n",
    "    nr_of_residual_svd_vectors=1,\n",
    "    linlog=False,\n",
    "    # linthresh=20,\n",
    "    figure_only=False,\n",
    ")"
   ]
  },
  {
   "cell_type": "code",
   "execution_count": null,
   "id": "horizontal-chassis",
   "metadata": {},
   "outputs": [],
   "source": [
    "target_result.optimized_parameters"
   ]
  }
 ],
 "metadata": {
  "language_info": {
   "codemirror_mode": {
    "name": "ipython"
   },
   "file_extension": ".py",
   "mimetype": "text/x-python",
   "name": "python",
   "nbconvert_exporter": "python"
  }
 },
 "nbformat": 4,
 "nbformat_minor": 5
}
