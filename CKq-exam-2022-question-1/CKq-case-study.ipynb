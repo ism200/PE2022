{
 "cells": [
  {
   "cell_type": "markdown",
   "metadata": {},
   "source": [
    "# CKq case study"
   ]
  },
  {
   "cell_type": "markdown",
   "metadata": {},
   "source": [
    "This case study concerns the fluorescence measured from the core of the phycobilisome antenna in the quenched state (abbreviated CKq) of a cyanobacterium ([Tian et al. 2012][tian2012]).\n",
    "\n",
    "The measurement and the global analysis are described in ([Tian et al. 2012][tian2012]).\n",
    "\n",
    "The target analysis is based upon the model explained in Fig.12A of ([van Stokkum et al. 2018][vanstokkum2018]).\n",
    "\n",
    "Below are Questions 1A-E, each worth 10 points.\n",
    "\n",
    "<!-- References to papers -->\n",
    "\n",
    "[tian2012]: https://doi.org/10.1016/j.bpj.2012.03.008 \"Tian L, Gwizdala M, van Stokkum IHM, Koehorst RBM, Kirilovsky D, van Amerongen H (2012) Picosecond Kinetics of Light Harvesting and Photoprotective Quenching in Wild-Type and Mutant Phycobilisomes Isolated from the Cyanobacterium Synechocystis PCC 6803. Biophysical Journal 102:1692-1700\"\n",
    "[vanstokkum2018]: https://www.few.vu.nl/~ivo/pub/2018/2018PBSmodelPRES135_87.pdf \"van Stokkum IHM, Gwizdala M, Tian L, Snellenburg JJ, van Grondelle R, van Amerongen H, Berera R (2018) A functional compartmental model of the Synechocystis PCC 6803 phycobilisome. Photosynthesis Research 135:87-102.\""
   ]
  },
  {
   "cell_type": "markdown",
   "metadata": {},
   "source": [
    "### Inspect data"
   ]
  },
  {
   "cell_type": "code",
   "execution_count": null,
   "metadata": {},
   "outputs": [],
   "source": [
    "from pyglotaran_extras import plot_data_overview\n",
    "\n",
    "CKq_data_path = \"CKtr4q.ascii\"\n",
    "plot_data_overview(CKq_data_path, nr_of_data_svd_vectors=3);"
   ]
  },
  {
   "cell_type": "markdown",
   "metadata": {},
   "source": [
    "## Global Analysis"
   ]
  },
  {
   "cell_type": "markdown",
   "metadata": {},
   "source": [
    "### Used model and parameters"
   ]
  },
  {
   "cell_type": "code",
   "execution_count": null,
   "metadata": {},
   "outputs": [],
   "source": [
    "from glotaran.utils.ipython import display_file\n",
    "\n",
    "CKq_global_model_path = \"models/CKq-global-model.yml\"\n",
    "CKq_global_parameters_path = \"models/CKq-global-parameters.yml\""
   ]
  },
  {
   "cell_type": "markdown",
   "metadata": {},
   "source": [
    "#### Model file"
   ]
  },
  {
   "cell_type": "code",
   "execution_count": null,
   "metadata": {},
   "outputs": [],
   "source": [
    "display_file(CKq_global_model_path, syntax=\"yaml\")"
   ]
  },
  {
   "cell_type": "markdown",
   "metadata": {},
   "source": [
    "#### Parameters file"
   ]
  },
  {
   "cell_type": "markdown",
   "metadata": {},
   "source": [
    "The free parameters are the center (the location of the maximum of the IRF) and the width of the IRF, and the kinetic parameters.\n",
    "Note that the dispersion parameters have been fixed (to save time), but they could have been estimated from the data as well."
   ]
  },
  {
   "cell_type": "markdown",
   "metadata": {},
   "source": [
    "Question 1A: estimate the missing starting values for the parameters from the data inspection, and insert these in the models/CKq-global-parameters.yml file. Estimate the parameters, and make sure you achieve a satisfactory fit."
   ]
  },
  {
   "cell_type": "code",
   "execution_count": null,
   "metadata": {},
   "outputs": [],
   "source": [
    "display_file(CKq_global_parameters_path, syntax=\"yaml\")"
   ]
  },
  {
   "cell_type": "markdown",
   "metadata": {},
   "source": [
    "### Create scheme and optimize it"
   ]
  },
  {
   "cell_type": "code",
   "execution_count": null,
   "metadata": {},
   "outputs": [],
   "source": [
    "from glotaran.project.scheme import Scheme\n",
    "\n",
    "CKq_global_scheme = Scheme(\n",
    "    model=CKq_global_model_path,\n",
    "    parameters=CKq_global_parameters_path,\n",
    "    data={\"CKq_data\": CKq_data_path},\n",
    ")\n",
    "CKq_global_scheme.validate()"
   ]
  },
  {
   "cell_type": "code",
   "execution_count": null,
   "metadata": {},
   "outputs": [],
   "source": [
    "from glotaran.optimization.optimize import optimize\n",
    "\n",
    "CKq_global_result = optimize(CKq_global_scheme)"
   ]
  },
  {
   "cell_type": "code",
   "execution_count": null,
   "metadata": {},
   "outputs": [],
   "source": [
    "CKq_global_result.root_mean_square_error"
   ]
  },
  {
   "cell_type": "code",
   "execution_count": null,
   "metadata": {},
   "outputs": [],
   "source": [
    "CKq_global_result.optimized_parameters"
   ]
  },
  {
   "cell_type": "markdown",
   "metadata": {},
   "source": [
    "### Result plots"
   ]
  },
  {
   "cell_type": "markdown",
   "metadata": {},
   "source": [
    "#### Fit quality"
   ]
  },
  {
   "cell_type": "code",
   "execution_count": null,
   "metadata": {},
   "outputs": [],
   "source": [
    "from pyglotaran_extras import plot_fitted_traces, select_plot_wavelengths\n",
    "\n",
    "wavelengths = select_plot_wavelengths(CKq_global_result.data[\"CKq_data\"])\n",
    "plot_fitted_traces(CKq_global_result, wavelengths);"
   ]
  },
  {
   "cell_type": "markdown",
   "metadata": {},
   "source": [
    "#### Overview"
   ]
  },
  {
   "cell_type": "code",
   "execution_count": null,
   "metadata": {},
   "outputs": [],
   "source": [
    "from pyglotaran_extras import plot_overview\n",
    "\n",
    "plot_overview(\n",
    "    CKq_global_result,\n",
    "    linlog=False,\n",
    "    figure_only=False,\n",
    "    nr_of_data_svd_vectors=3,\n",
    "    nr_of_residual_svd_vectors=1,\n",
    ");"
   ]
  },
  {
   "cell_type": "code",
   "execution_count": null,
   "metadata": {},
   "outputs": [],
   "source": [
    "from show_a_matrix import show_a_matrix\n",
    "\n",
    "show_a_matrix(CKq_global_result)"
   ]
  },
  {
   "cell_type": "markdown",
   "metadata": {},
   "source": [
    "Question 1B: Comment on the interpretation of the EAS and the DAS (in relation to the estimated lifetimes), with the help of the course materials. Hint: to insert an asterisk to indicate an excited state, it must be preceded by a backslash, e.g. APC660\\*\n",
    "\n",
    "Answer 1B: "
   ]
  },
  {
   "cell_type": "markdown",
   "metadata": {},
   "source": [
    "## Dispersion curves"
   ]
  },
  {
   "cell_type": "code",
   "execution_count": null,
   "metadata": {},
   "outputs": [],
   "source": [
    "CKq_global_result.data[\"CKq_data\"].data.sel(time=slice(290, 350)).plot()\n",
    "CKq_global_result.data[\"CKq_data\"].irf_center_location.plot.line(x=\"spectral\", add_legend=False)"
   ]
  },
  {
   "cell_type": "markdown",
   "metadata": {},
   "source": [
    "## Target Analysis"
   ]
  },
  {
   "cell_type": "markdown",
   "metadata": {},
   "source": [
    "### Used model and parameters"
   ]
  },
  {
   "cell_type": "code",
   "execution_count": null,
   "metadata": {},
   "outputs": [],
   "source": [
    "CKq_target_model_path = \"models/CKq-target-model.yml\"\n",
    "CKq_target_parameters_path = \"models/CKq-target-parameters.yml\""
   ]
  },
  {
   "cell_type": "markdown",
   "metadata": {},
   "source": [
    "#### Model file"
   ]
  },
  {
   "cell_type": "code",
   "execution_count": null,
   "metadata": {},
   "outputs": [],
   "source": [
    "display_file(CKq_target_model_path, syntax=\"yaml\")"
   ]
  },
  {
   "cell_type": "markdown",
   "metadata": {},
   "source": [
    "#### Parameters file"
   ]
  },
  {
   "cell_type": "markdown",
   "metadata": {},
   "source": [
    "The free parameters describe the IRF, the kinetics and the relative amount of the two megacomplexes.\n",
    "Note that the dispersion parameters have been fixed, they could have been estimated from the data as well.\n",
    "Compartments 1, 2 and 3 contain the same type of pigments, and thus have identical SAS.\n",
    "Note that the first scaling parameter (0.75) is equal to the ratio of the number of pigments in the compartments 3 (18 pigments, cf. input3) and compartments 1 or 2 (24 pigments, cf. input s1_s2).\n",
    "The second scaling parameter (0.3) has been fixed so that the areas of the SAS are similar. It could have been estimated using an equal area constraint."
   ]
  },
  {
   "cell_type": "markdown",
   "metadata": {},
   "source": [
    "Question 1C: Study the kinetic scheme CKq_scheme.png (in the CKq exam 2022 question 1 folder) and the model file carefully.\n",
    "Insert the missing starting values in the models/CKq-target-parameters.yml file. Hint: use the above estimated kinetic and IRF parameters. Study the parameters file carefully."
   ]
  },
  {
   "cell_type": "code",
   "execution_count": null,
   "metadata": {},
   "outputs": [],
   "source": [
    "display_file(CKq_target_parameters_path, syntax=\"yaml\")"
   ]
  },
  {
   "cell_type": "markdown",
   "metadata": {},
   "source": [
    "### Create scheme and optimize it"
   ]
  },
  {
   "cell_type": "code",
   "execution_count": null,
   "metadata": {},
   "outputs": [],
   "source": [
    "CKq_target_scheme = Scheme(\n",
    "    model=CKq_target_model_path,\n",
    "    parameters=CKq_target_parameters_path,\n",
    "    data={\"CKq_data\": CKq_data_path},\n",
    ")\n",
    "CKq_target_scheme.validate()"
   ]
  },
  {
   "cell_type": "code",
   "execution_count": null,
   "metadata": {},
   "outputs": [],
   "source": [
    "CKq_target_result = optimize(CKq_target_scheme)"
   ]
  },
  {
   "cell_type": "code",
   "execution_count": null,
   "metadata": {},
   "outputs": [],
   "source": [
    "CKq_target_result.root_mean_square_error"
   ]
  },
  {
   "cell_type": "code",
   "execution_count": null,
   "metadata": {},
   "outputs": [],
   "source": [
    "CKq_target_result.optimized_parameters"
   ]
  },
  {
   "cell_type": "code",
   "execution_count": null,
   "metadata": {},
   "outputs": [],
   "source": [
    "compartments = CKq_target_scheme.model.initial_concentration[\"input1\"].compartments\n",
    "\n",
    "CKq_target_scheme.model.k_matrix[\"km1\"].matrix_as_markdown(compartments).replace(\"0.0000e+00\", \"\")"
   ]
  },
  {
   "cell_type": "code",
   "execution_count": null,
   "metadata": {},
   "outputs": [],
   "source": [
    "CKq_target_scheme.model.k_matrix[\"km2\"].matrix_as_markdown(compartments).replace(\"0.0000e+00\", \"\")"
   ]
  },
  {
   "cell_type": "code",
   "execution_count": null,
   "metadata": {},
   "outputs": [],
   "source": [
    "from show_a_matrix import show_a_matrix\n",
    "\n",
    "show_a_matrix(CKq_target_result)"
   ]
  },
  {
   "cell_type": "markdown",
   "metadata": {},
   "source": [
    "### Result plots"
   ]
  },
  {
   "cell_type": "markdown",
   "metadata": {},
   "source": [
    "#### Fit quality"
   ]
  },
  {
   "cell_type": "code",
   "execution_count": null,
   "metadata": {},
   "outputs": [],
   "source": [
    "plot_fitted_traces(CKq_target_result, wavelengths);"
   ]
  },
  {
   "cell_type": "markdown",
   "metadata": {},
   "source": [
    "#### Overview"
   ]
  },
  {
   "cell_type": "code",
   "execution_count": null,
   "metadata": {},
   "outputs": [],
   "source": [
    "plot_overview(\n",
    "    CKq_target_result,\n",
    "    linlog=False,\n",
    "    figure_only=False,\n",
    "    nr_of_data_svd_vectors=3,\n",
    "    nr_of_residual_svd_vectors=1,\n",
    ");"
   ]
  },
  {
   "cell_type": "markdown",
   "metadata": {},
   "source": [
    "Question 1D: Compare the rmse of the global and of the target analysis. \n",
    "How can the rmse difference be explained. Hint: consider the amount of free parameters.\n",
    "\n",
    "Comment on the interpretation of the SAS. Hint: compare to Fig.11B of ([van Stokkum et al. 2018][vanstokkum2018]).\n",
    "\n",
    "Answer 1D: \n",
    "\n",
    "\n",
    "\n",
    "\n",
    "[vanstokkum2018]: https://www.few.vu.nl/~ivo/pub/2018/2018PBSmodelPRES135_87.pdf \"van Stokkum IHM, Gwizdala M, Tian L, Snellenburg JJ, van Grondelle R, van Amerongen H, Berera R (2018) A functional compartmental model of the Synechocystis PCC 6803 phycobilisome. Photosynthesis Research 135:87-102.\""
   ]
  },
  {
   "cell_type": "markdown",
   "metadata": {},
   "source": [
    "Question 1E: Consider compartments 3 and 4. What is the enthalpy difference between these compartments? What is the entropy difference between these compartments? What is the Gibbs free energy difference between these compartments computed from the enthalpy and entropy? What is the Gibbs free energy difference between these compartments computed from the kinetic scheme? Show that these two computations of the Gibbs free energy difference are consistent with a margin of about 0.16 kB*T. Express all in units of kB*T (kB*T=25 meV=208 cm-1).\n",
    "\n",
    "Answer 1E: \n"
   ]
  }
 ],
 "metadata": {
  "interpreter": {
   "hash": "a21d58caabd9076bb5b46436ba653e0c3388531d8605b268fe4bb047e3acee81"
  },
  "language_info": {
   "codemirror_mode": {
    "name": "ipython"
   },
   "file_extension": ".py",
   "mimetype": "text/x-python",
   "name": "python",
   "nbconvert_exporter": "python"
  }
 },
 "nbformat": 4,
 "nbformat_minor": 4
}
