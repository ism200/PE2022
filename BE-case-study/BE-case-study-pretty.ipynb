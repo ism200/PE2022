{
 "cells": [
  {
   "cell_type": "markdown",
   "metadata": {},
   "source": [
    "# BE case study"
   ]
  },
  {
   "cell_type": "markdown",
   "metadata": {},
   "source": [
    "This case study concerns the fluorescence measured from the BE mutant of a cyanobacterium which contains only photosystem I (PSI). The measurement and the global analysis are described in ([Tian et al. 2013][tian2013]). \n",
    "The target analysis is based upon the model explained in ([van Stokkum 2018][vanstokkum2018]).\n",
    "\n",
    "[tian2013]: https://doi.org/10.1039/C3CP43813A \"Tian L, Farooq S, van Amerongen H (2013) Probing the picosecond kinetics of the photosystem II core complex in vivo. Physical Chemistry Chemical Physics 15 (9):3146-3154.\"\n",
    "\n",
    "[vanstokkum2018]: https://www.doi.org/10.1201/9781351242899-20 \"Systems biophysics: Global and target analysis of light harvesting and photochemical quenching in vivo. In: Croce R, van Grondelle R, van Amerongen H, van Stokkum I (eds) Light Harvesting in Photosynthesis. CRC Press, Boca Raton, pp 467-482.\""
   ]
  },
  {
   "cell_type": "markdown",
   "metadata": {},
   "source": [
    "# Install pyglotaran from github\n",
    "!pip install https://github.com/glotaran/pyglotaran.git\n",
    "\n",
    "!pip install https://github.com/glotaran/pyglotaran-extras.git"
   ]
  },
  {
   "cell_type": "markdown",
   "metadata": {},
   "source": [
    "### Inspect data"
   ]
  },
  {
   "cell_type": "code",
   "execution_count": null,
   "metadata": {},
   "outputs": [],
   "source": [
    "from pyglotaran_extras import plot_data_overview\n",
    "\n",
    "BE_data_path = \"BE_700_ma_tr2_gain30_30uW_RT_AV_bc_sh_sel_620_830.ascii\"\n",
    "plot_data_overview(BE_data_path, nr_of_data_svd_vectors=3);"
   ]
  },
  {
   "cell_type": "markdown",
   "metadata": {},
   "source": [
    "## Global Analysis"
   ]
  },
  {
   "cell_type": "markdown",
   "metadata": {},
   "source": [
    "### Used model and parameters"
   ]
  },
  {
   "cell_type": "code",
   "execution_count": null,
   "metadata": {},
   "outputs": [],
   "source": [
    "from glotaran.utils.ipython import display_file\n",
    "\n",
    "BE_global_model_path = \"models/BE-global-model.yml\"\n",
    "BE_global_parameters_path = \"models/BE-global-parameters.yml\""
   ]
  },
  {
   "cell_type": "markdown",
   "metadata": {},
   "source": [
    "#### Model file"
   ]
  },
  {
   "cell_type": "code",
   "execution_count": null,
   "metadata": {},
   "outputs": [],
   "source": [
    "display_file(BE_global_model_path, syntax=\"yaml\")"
   ]
  },
  {
   "cell_type": "markdown",
   "metadata": {},
   "source": [
    "#### Parameters file"
   ]
  },
  {
   "cell_type": "code",
   "execution_count": null,
   "metadata": {},
   "outputs": [],
   "source": [
    "display_file(BE_global_parameters_path, syntax=\"yaml\")"
   ]
  },
  {
   "cell_type": "markdown",
   "metadata": {},
   "source": [
    "The free parameters are the three kinetic parameters and the IRF parameters. The IRF consists of a sum of two Gaussians with a common center. The IRF parameters are the center (the location of the maximum of the IRF) and the widths of the two Gaussians, and the relative amplitude of the second Gaussian.\n",
    "Note that two dispersion parameters (to describe the wavelength dependence of the IRF center with a parabola) have been used, which have been estimated from the data as well."
   ]
  },
  {
   "cell_type": "markdown",
   "metadata": {},
   "source": [
    "### Create scheme and optimize it"
   ]
  },
  {
   "cell_type": "code",
   "execution_count": null,
   "metadata": {},
   "outputs": [],
   "source": [
    "from glotaran.analysis.optimize import optimize\n",
    "from glotaran.project.scheme import Scheme\n",
    "\n",
    "BE_global_scheme = Scheme(\n",
    "    model=BE_global_model_path,\n",
    "    parameters=BE_global_parameters_path,\n",
    "    data={\"BE_data\": BE_data_path},\n",
    "    maximum_number_function_evaluations=11,\n",
    ")\n",
    "BE_global_scheme.validate()"
   ]
  },
  {
   "cell_type": "code",
   "execution_count": null,
   "metadata": {},
   "outputs": [],
   "source": [
    "compartments = BE_global_scheme.model.initial_concentration[\"input1\"].compartments\n",
    "\n",
    "BE_global_scheme.model.k_matrix[\"km1\"].matrix_as_markdown(compartments).replace(\"0.0000e+00\", \"\")"
   ]
  },
  {
   "cell_type": "code",
   "execution_count": null,
   "metadata": {},
   "outputs": [],
   "source": [
    "BE_global_result = optimize(BE_global_scheme)"
   ]
  },
  {
   "cell_type": "code",
   "execution_count": null,
   "metadata": {},
   "outputs": [],
   "source": [
    "BE_global_result"
   ]
  },
  {
   "cell_type": "code",
   "execution_count": null,
   "metadata": {},
   "outputs": [],
   "source": [
    "BE_global_result.optimized_parameters"
   ]
  },
  {
   "cell_type": "markdown",
   "metadata": {},
   "source": [
    "### Result plots"
   ]
  },
  {
   "cell_type": "markdown",
   "metadata": {},
   "source": [
    "#### Fit quality"
   ]
  },
  {
   "cell_type": "code",
   "execution_count": null,
   "metadata": {},
   "outputs": [],
   "source": [
    "from pyglotaran_extras import plot_fitted_traces, select_plot_wavelengths\n",
    "\n",
    "wavelengths = select_plot_wavelengths(\n",
    "    BE_global_result.data[\"BE_data\"], wavelength_range=(670, 750)\n",
    ")\n",
    "plot_fitted_traces(BE_global_result.data[\"BE_data\"], wavelengths, linlog=True, linthresh=50);"
   ]
  },
  {
   "cell_type": "markdown",
   "metadata": {},
   "source": [
    "#### Overview"
   ]
  },
  {
   "cell_type": "code",
   "execution_count": null,
   "metadata": {},
   "outputs": [],
   "source": [
    "from pyglotaran_extras import plot_overview\n",
    "\n",
    "plot_overview(\n",
    "    BE_global_result.data[\"BE_data\"],\n",
    "    linlog=False,\n",
    "    figure_only=False,\n",
    "    nr_of_data_svd_vectors=3,\n",
    "    nr_of_residual_svd_vectors=1,\n",
    ");"
   ]
  },
  {
   "cell_type": "code",
   "execution_count": null,
   "metadata": {},
   "outputs": [],
   "source": [
    "from pyglotaran_extras import plot_overview\n",
    "\n",
    "plot_overview(\n",
    "    BE_global_result.data[\"BE_data\"],\n",
    "    figure_only=False,\n",
    "    nr_of_data_svd_vectors=3,\n",
    "    nr_of_residual_svd_vectors=1,\n",
    "    linlog=True,\n",
    "    linthresh=50,\n",
    ");"
   ]
  },
  {
   "cell_type": "markdown",
   "metadata": {},
   "source": [
    "## Target Analysis"
   ]
  },
  {
   "cell_type": "markdown",
   "metadata": {},
   "source": [
    "### Used model and parameters"
   ]
  },
  {
   "cell_type": "code",
   "execution_count": null,
   "metadata": {},
   "outputs": [],
   "source": [
    "BE_target_model_path = \"models/BE-target-model.yml\"\n",
    "BE_target_parameters_path = \"models/BE-target-parameters.yml\""
   ]
  },
  {
   "cell_type": "markdown",
   "metadata": {},
   "source": [
    "#### Model file"
   ]
  },
  {
   "cell_type": "code",
   "execution_count": null,
   "metadata": {},
   "outputs": [],
   "source": [
    "display_file(BE_target_model_path, syntax=\"yaml\")"
   ]
  },
  {
   "cell_type": "markdown",
   "metadata": {},
   "source": [
    "#### Parameters file"
   ]
  },
  {
   "cell_type": "code",
   "execution_count": null,
   "metadata": {},
   "outputs": [],
   "source": [
    "display_file(BE_target_parameters_path, syntax=\"yaml\")"
   ]
  },
  {
   "cell_type": "markdown",
   "metadata": {},
   "source": [
    "The free parameters are the free kinetic parameters and the free IRF parameters. Note that equal_area_penalties are needed to estimate the relative input to the freeChla (s4) and the equilibrium of PS1bulk and PS1red (s1 and s2) and that the radical pair RP1 (s3) has zero emission. The natural decay rate of Chla has been fixed at 1/(2 ns)."
   ]
  },
  {
   "cell_type": "markdown",
   "metadata": {},
   "source": [
    "### Create scheme and optimize it"
   ]
  },
  {
   "cell_type": "code",
   "execution_count": null,
   "metadata": {},
   "outputs": [],
   "source": [
    "BE_target_scheme = Scheme(\n",
    "    model=BE_target_model_path,\n",
    "    parameters=BE_target_parameters_path,\n",
    "    data={\"BE_data\": BE_data_path},\n",
    "    maximum_number_function_evaluations=13,\n",
    ")\n",
    "BE_target_scheme.validate()"
   ]
  },
  {
   "cell_type": "code",
   "execution_count": null,
   "metadata": {},
   "outputs": [],
   "source": [
    "compartments = BE_target_scheme.model.initial_concentration[\"input1\"].compartments\n",
    "\n",
    "BE_target_scheme.model.k_matrix[\"PS1\"].matrix_as_markdown(compartments).replace(\"0.0000e+00\", \"\")"
   ]
  },
  {
   "cell_type": "code",
   "execution_count": null,
   "metadata": {},
   "outputs": [],
   "source": [
    "BE_target_result = optimize(BE_target_scheme)"
   ]
  },
  {
   "cell_type": "code",
   "execution_count": null,
   "metadata": {},
   "outputs": [],
   "source": [
    "BE_target_result"
   ]
  },
  {
   "cell_type": "markdown",
   "metadata": {},
   "source": [
    "### Result plots"
   ]
  },
  {
   "cell_type": "markdown",
   "metadata": {},
   "source": [
    "#### Fit quality"
   ]
  },
  {
   "cell_type": "code",
   "execution_count": null,
   "metadata": {},
   "outputs": [],
   "source": [
    "plot_fitted_traces(BE_target_result.data[\"BE_data\"], wavelengths, linlog=True, linthresh=50);"
   ]
  },
  {
   "cell_type": "markdown",
   "metadata": {},
   "source": [
    "#### Overview"
   ]
  },
  {
   "cell_type": "code",
   "execution_count": null,
   "metadata": {},
   "outputs": [],
   "source": [
    "plot_overview(\n",
    "    BE_target_result.data[\"BE_data\"],\n",
    "    figure_only=False,\n",
    "    nr_of_data_svd_vectors=3,\n",
    "    nr_of_residual_svd_vectors=1,\n",
    "    linlog=True,\n",
    "    linthresh=50,\n",
    ");"
   ]
  },
  {
   "cell_type": "code",
   "execution_count": null,
   "metadata": {},
   "outputs": [],
   "source": [
    "BE_target_result.optimized_parameters"
   ]
  },
  {
   "cell_type": "code",
   "execution_count": null,
   "metadata": {},
   "outputs": [],
   "source": [
    "BE_target_result.data[\"BE_data\"]"
   ]
  }
 ],
 "metadata": {
  "kernelspec": {
   "display_name": "Python 3 (ipykernel)",
   "language": "python",
   "name": "python3"
  },
  "language_info": {
   "codemirror_mode": {
    "name": "ipython",
    "version": 3
   },
   "file_extension": ".py",
   "mimetype": "text/x-python",
   "name": "python",
   "nbconvert_exporter": "python",
   "pygments_lexer": "ipython3",
   "version": "3.10.0"
  }
 },
 "nbformat": 4,
 "nbformat_minor": 4
}
