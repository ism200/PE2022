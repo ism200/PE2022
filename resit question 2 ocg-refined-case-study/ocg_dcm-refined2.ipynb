{
 "cells": [
  {
   "cell_type": "markdown",
   "metadata": {},
   "source": [
    "# ocg case study"
   ]
  },
  {
   "cell_type": "markdown",
   "metadata": {},
   "source": [
    "This case study concerns the transient difference absorption measured in the visible spectral region after 530 nm excitation of an articial light harvester, named orange-calix-green (ocg), in the solvent dichloromethane (dcm). The measurement, the global analysis and the target analysis is based upon the model explained in ([Hippius et al 2008][Hippius2008]).\n",
    "Below are Questions 2A-E, each worth 10 points.\n",
    "\n",
    "[Hippius2008]: https://www.few.vu.nl/~ivo/pub/2008/HippiusWilliamsWuerthnerJPCC112_2476_2486.pdf \"Hippius C, van Stokkum IHM, Gsanger M, Groeneveld MM, Williams RM, Würthner F (2008) Sequential FRET processes in calix[4]arene-linked orange-red-green perylene bisimide dye zigzag arrays. Journal of Physical Chemistry C 112 (7):2476-2486.\""
   ]
  },
  {
   "cell_type": "markdown",
   "metadata": {},
   "source": [
    "### Inspect data"
   ]
  },
  {
   "cell_type": "code",
   "execution_count": null,
   "metadata": {},
   "outputs": [],
   "source": [
    "from pyglotaran_extras import plot_data_overview\n",
    "\n",
    "ocg_dcm_data_path = \"Kog_CAa.ascii\"\n",
    "plot_data_overview(ocg_dcm_data_path, nr_of_data_svd_vectors=3, linlog=True, linthresh=1);"
   ]
  },
  {
   "cell_type": "markdown",
   "metadata": {},
   "source": [
    "## Global Analysis: sequential scheme with decay rates in decreasing order"
   ]
  },
  {
   "cell_type": "markdown",
   "metadata": {},
   "source": [
    "### Used model and parameters"
   ]
  },
  {
   "cell_type": "code",
   "execution_count": null,
   "metadata": {},
   "outputs": [],
   "source": [
    "from glotaran.utils.ipython import display_file\n",
    "\n",
    "ocg_dcm_global_model_path = \"models/ocg_dcm-global-model.yml\"\n",
    "ocg_dcm_global_parameters_path = \"models/ocg_dcm-global-parameters.yml\""
   ]
  },
  {
   "cell_type": "markdown",
   "metadata": {},
   "source": [
    "#### Model file"
   ]
  },
  {
   "cell_type": "markdown",
   "metadata": {},
   "source": [
    "Note that these data have **not** been preprocessed, thus in contrast to the previous ocg case study an artifact is needed."
   ]
  },
  {
   "cell_type": "code",
   "execution_count": null,
   "metadata": {},
   "outputs": [],
   "source": [
    "display_file(ocg_dcm_global_model_path, syntax=\"yaml\")"
   ]
  },
  {
   "cell_type": "markdown",
   "metadata": {},
   "source": [
    "#### Parameters file"
   ]
  },
  {
   "cell_type": "markdown",
   "metadata": {},
   "source": [
    "The free parameters are the center (the location of the maximum of the IRF at 550 nm, the dispersion_center) and the width of the IRF, and the kinetic parameters.\n",
    "The dispersion parameters are also estimated from the data."
   ]
  },
  {
   "cell_type": "markdown",
   "metadata": {},
   "source": [
    "Question 2A: estimate the missing starting values for the parameters from the data inspection, and insert these in the models/ocg_dcm-global-parameters.yml file. Estimate the parameters, and make sure you achieve a satisfactory fit."
   ]
  },
  {
   "cell_type": "code",
   "execution_count": null,
   "metadata": {},
   "outputs": [],
   "source": [
    "display_file(ocg_dcm_global_parameters_path, syntax=\"yaml\")"
   ]
  },
  {
   "cell_type": "markdown",
   "metadata": {},
   "source": [
    "### Create scheme and optimize it"
   ]
  },
  {
   "cell_type": "code",
   "execution_count": null,
   "metadata": {},
   "outputs": [],
   "source": [
    "from glotaran.optimization.optimize import optimize\n",
    "from glotaran.project.scheme import Scheme\n",
    "\n",
    "ocg_dcm_global_scheme = Scheme(\n",
    "    model=ocg_dcm_global_model_path,\n",
    "    parameters=ocg_dcm_global_parameters_path,\n",
    "    maximum_number_function_evaluations=7,\n",
    "    data={\"ocg_dcm_data\": ocg_dcm_data_path},\n",
    ")\n",
    "ocg_dcm_global_scheme.validate()"
   ]
  },
  {
   "cell_type": "code",
   "execution_count": null,
   "metadata": {},
   "outputs": [],
   "source": [
    "ocg_dcm_global_result = optimize(ocg_dcm_global_scheme)"
   ]
  },
  {
   "cell_type": "code",
   "execution_count": null,
   "metadata": {},
   "outputs": [],
   "source": [
    "ocg_dcm_global_result.root_mean_square_error"
   ]
  },
  {
   "cell_type": "code",
   "execution_count": null,
   "metadata": {},
   "outputs": [],
   "source": [
    "ocg_dcm_global_result.optimized_parameters"
   ]
  },
  {
   "cell_type": "markdown",
   "metadata": {},
   "source": [
    "### Result plots"
   ]
  },
  {
   "cell_type": "markdown",
   "metadata": {},
   "source": [
    "#### Fit quality"
   ]
  },
  {
   "cell_type": "code",
   "execution_count": null,
   "metadata": {},
   "outputs": [],
   "source": [
    "from pyglotaran_extras import plot_fitted_traces, select_plot_wavelengths\n",
    "\n",
    "wavelengths = select_plot_wavelengths(ocg_dcm_global_result.data[\"ocg_dcm_data\"])\n",
    "plot_fitted_traces(\n",
    "    ocg_dcm_global_result.data[\"ocg_dcm_data\"], wavelengths, linlog=True, linthresh=1\n",
    ");"
   ]
  },
  {
   "cell_type": "markdown",
   "metadata": {},
   "source": [
    "Note that in this plot the time axis is linear until 1 ps and logarithmic thereafter. This plot is more informative."
   ]
  },
  {
   "cell_type": "markdown",
   "metadata": {},
   "source": [
    "#### Overview"
   ]
  },
  {
   "cell_type": "code",
   "execution_count": null,
   "metadata": {},
   "outputs": [],
   "source": [
    "from pyglotaran_extras import plot_overview\n",
    "\n",
    "plot_overview(\n",
    "    ocg_dcm_global_result.data[\"ocg_dcm_data\"],\n",
    "    linlog=True,\n",
    "    figure_only=False,\n",
    "    nr_of_data_svd_vectors=4,\n",
    "    nr_of_residual_svd_vectors=1,\n",
    ");"
   ]
  },
  {
   "cell_type": "markdown",
   "metadata": {},
   "source": [
    "## Dispersion curve"
   ]
  },
  {
   "cell_type": "code",
   "execution_count": null,
   "metadata": {},
   "outputs": [],
   "source": [
    "ocg_dcm_global_result.data[\"ocg_dcm_data\"].data.sel(time=slice(0, 2)).plot()\n",
    "ocg_dcm_global_result.data[\"ocg_dcm_data\"].irf_center_location.plot()"
   ]
  },
  {
   "cell_type": "code",
   "execution_count": null,
   "metadata": {},
   "outputs": [],
   "source": [
    "from show_a_matrix import show_a_matrix\n",
    "\n",
    "show_a_matrix(ocg_dcm_global_result)"
   ]
  },
  {
   "cell_type": "markdown",
   "metadata": {},
   "source": [
    "Question 2B: Comment on the interpretation of the EADS (relating each EADS to the estimated lifetimes), with the help of abs_emis_org.png (also copied in the ocg-case-study folder) and other course materials. Discuss especially the different contributions to the normalized third and the fourth EADS. Hint 1: to insert an asterisk to indicate an excited state, it must be preceded by a backslash, e.g. o\\*. Hint 2: Explain the shape of the normalized fourth EADS between 450 and 600 nm.\n",
    "\n",
    "Answer 2B: "
   ]
  },
  {
   "cell_type": "markdown",
   "metadata": {},
   "source": [
    "##Refined Target Analysis"
   ]
  },
  {
   "cell_type": "markdown",
   "metadata": {},
   "source": [
    "### Used model and parameters"
   ]
  },
  {
   "cell_type": "code",
   "execution_count": null,
   "metadata": {},
   "outputs": [],
   "source": [
    "ocg_dcm_target_model_path = \"models/ocg_dcm-refined-target-model.yml\"\n",
    "ocg_dcm_target_parameters_path = \"models/ocg_dcm-refined-target-parameters.yml\""
   ]
  },
  {
   "cell_type": "markdown",
   "metadata": {},
   "source": [
    "#### Model file\n",
    "This refined target analysis concentrates on resolving the different contributions to the third and the fourth EADS. It employs additional spectral information of the type \"clp-guide\", see the names of the three extra datasets."
   ]
  },
  {
   "cell_type": "code",
   "execution_count": null,
   "metadata": {},
   "outputs": [],
   "source": [
    "display_file(ocg_dcm_target_model_path, syntax=\"yaml\")"
   ]
  },
  {
   "cell_type": "markdown",
   "metadata": {},
   "source": [
    "#### Parameters file"
   ]
  },
  {
   "cell_type": "markdown",
   "metadata": {},
   "source": [
    "Question 2C: Study the kinetic scheme ocg_dcm_scheme.png (in the ocg-case-study folder) and the model file carefully.\n",
    "Insert the missing starting values in the models/ocg_dcm-target-parameters.yml file. Hint: use the above estimated kinetic and IRF parameters. Study the parameters file carefully. Discuss the input in relation to abs_emis_org.png (also copied in the ocg-refined-case-study folder)\n",
    "\n",
    "Answer 2C:"
   ]
  },
  {
   "cell_type": "code",
   "execution_count": null,
   "metadata": {},
   "outputs": [],
   "source": [
    "display_file(ocg_dcm_target_parameters_path, syntax=\"yaml\")"
   ]
  },
  {
   "cell_type": "markdown",
   "metadata": {},
   "source": [
    "### Create scheme and optimize it\n",
    "Note that the # sign in front of import has to be removed"
   ]
  },
  {
   "cell_type": "code",
   "execution_count": null,
   "metadata": {},
   "outputs": [],
   "source": [
    "# import glotaran.builtin.megacomplexes.clp_guide\n",
    "\n",
    "ocg_dcm_target_scheme = Scheme(\n",
    "    model=ocg_dcm_target_model_path,\n",
    "    parameters=ocg_dcm_target_parameters_path,\n",
    "    maximum_number_function_evaluations=4,\n",
    "    data={\n",
    "        \"ocg_dcm_data\": ocg_dcm_data_path,\n",
    "        \"tripletSADS\": \"tripletSADSblue.ascii\",\n",
    "        \"RPSADS\": \"RPSADS.ascii\",\n",
    "        \"cg_dcmSADS\": \"4cg_dcmSADSblue.ascii\",\n",
    "    },\n",
    ")\n",
    "ocg_dcm_target_scheme.validate()"
   ]
  },
  {
   "cell_type": "code",
   "execution_count": null,
   "metadata": {},
   "outputs": [],
   "source": [
    "ocg_dcm_target_result = optimize(ocg_dcm_target_scheme)"
   ]
  },
  {
   "cell_type": "code",
   "execution_count": null,
   "metadata": {},
   "outputs": [],
   "source": [
    "ocg_dcm_target_result.root_mean_square_error"
   ]
  },
  {
   "cell_type": "code",
   "execution_count": null,
   "metadata": {},
   "outputs": [],
   "source": [
    "ocg_dcm_target_result"
   ]
  },
  {
   "cell_type": "code",
   "execution_count": null,
   "metadata": {},
   "outputs": [],
   "source": [
    "ocg_dcm_target_result.optimized_parameters"
   ]
  },
  {
   "cell_type": "code",
   "execution_count": null,
   "metadata": {},
   "outputs": [],
   "source": [
    "compartments = ocg_dcm_target_scheme.model.initial_concentration[\"input1\"].compartments\n",
    "\n",
    "ocg_dcm_target_scheme.model.k_matrix[\"km1\"].matrix_as_markdown(compartments).replace(\n",
    "    \"0.0000e+00\", \"\"\n",
    ")"
   ]
  },
  {
   "cell_type": "markdown",
   "metadata": {},
   "source": [
    "### Result plots"
   ]
  },
  {
   "cell_type": "markdown",
   "metadata": {},
   "source": [
    "#### Fit quality"
   ]
  },
  {
   "cell_type": "code",
   "execution_count": null,
   "metadata": {},
   "outputs": [],
   "source": [
    "fig_target, axes = plot_fitted_traces(\n",
    "    ocg_dcm_target_result.data[\"ocg_dcm_data\"], wavelengths, linlog=True, linthresh=1\n",
    ");"
   ]
  },
  {
   "cell_type": "markdown",
   "metadata": {},
   "source": [
    "#### Comparison of the estimated SADS (orange) and the guidance spectra (blue) "
   ]
  },
  {
   "cell_type": "code",
   "execution_count": null,
   "metadata": {},
   "outputs": [],
   "source": [
    "ocg_dcm_target_result.data[\"tripletSADS\"].data.plot()\n",
    "ocg_dcm_target_result.data[\"tripletSADS\"].fitted_data.plot()"
   ]
  },
  {
   "cell_type": "code",
   "execution_count": null,
   "metadata": {},
   "outputs": [],
   "source": [
    "ocg_dcm_target_result.data[\"cg_dcmSADS\"].data.plot()\n",
    "ocg_dcm_target_result.data[\"cg_dcmSADS\"].fitted_data.plot()"
   ]
  },
  {
   "cell_type": "code",
   "execution_count": null,
   "metadata": {},
   "outputs": [],
   "source": [
    "ocg_dcm_target_result.data[\"RPSADS\"].data.plot()\n",
    "ocg_dcm_target_result.data[\"RPSADS\"].fitted_data.plot()"
   ]
  },
  {
   "cell_type": "markdown",
   "metadata": {},
   "source": [
    "#### Overview"
   ]
  },
  {
   "cell_type": "code",
   "execution_count": null,
   "metadata": {},
   "outputs": [],
   "source": [
    "plot_overview(\n",
    "    ocg_dcm_target_result.data[\"ocg_dcm_data\"],\n",
    "    figure_only=False,\n",
    "    nr_of_data_svd_vectors=3,\n",
    "    nr_of_residual_svd_vectors=1,\n",
    "    linlog=True,\n",
    "    linthresh=1,\n",
    ");"
   ]
  },
  {
   "cell_type": "markdown",
   "metadata": {},
   "source": [
    "Question 2D (to be answered in combination with part E): Compare the rmse of the global and of the target analysis. How large is the yield (in %) of g\\* relative to the first excited state? How large is the yield (in %) of the fifth species relative to the first excited state? Comment on the interpretation of the SADS (i.e. give each species a name that refers to the properties of the state), with the help of abs_emis_org.png (also copied in the ocg-case-study folder) and other course materials. Discuss the differences between the black, red and blue SADS (referring to the Table that you fill in part E). Discuss the differences between the normalized fourth EADS and the normalized fourth SADS (green), especially between 450 and 600 nm. Interpret the fifth SADS (magenta) and assign it to a chromophore.\n",
    "\n",
    "Answer 2D: "
   ]
  },
  {
   "cell_type": "markdown",
   "metadata": {},
   "source": [
    "Question 2E: In the Table below fill the **names** from part D, and fill at each ? the wavelength of the main band in the SADS from the above target analysis"
   ]
  },
  {
   "cell_type": "markdown",
   "metadata": {},
   "source": [
    "| Species     | color | Bleach (nm)  | SE (nm) | absorption (nm) |\n",
    "| ----------- | ----- | ------------ | ------- | --------------- |\n",
    "| name        | black | ?,?     | ?,? | ?             |\n",
    "| name        | red   | ?,?     | ?,? | ?             |\n",
    "| name        | blue  | ?,?     |         | ?             |\n",
    "| name        | green | ?,?,? | ?     | ?,?         |\n",
    "| name         | magenta | ?,? |      | ?         |"
   ]
  }
 ],
 "metadata": {
  "interpreter": {
   "hash": "a21d58caabd9076bb5b46436ba653e0c3388531d8605b268fe4bb047e3acee81"
  },
  "language_info": {
   "codemirror_mode": {
    "name": "ipython"
   },
   "file_extension": ".py",
   "mimetype": "text/x-python",
   "name": "python",
   "nbconvert_exporter": "python"
  }
 },
 "nbformat": 4,
 "nbformat_minor": 4
}
