{
 "cells": [
  {
   "cell_type": "markdown",
   "metadata": {},
   "source": [
    "# BRC case study"
   ]
  },
  {
   "cell_type": "markdown",
   "metadata": {},
   "source": [
    "This case study concerns the transient difference absorption measured in the visible and near-infrared spectral region after 880 nm\n",
    "excitation from purple bacterial reaction center (RC). The measurement, the global analysis and the target analysis is based upon the model explained in ([Zhu et al. 2013][Zhu2013]).\n",
    "\n",
    "There are 4 exercise questions in this second notebook. The notebook can only be executed properly when the missing starting values for some of the parameters have been inserted in the relevant parameter files.\n",
    "\n",
    "[Zhu2013]: https://www.nat.vu.nl/~ivo/pub/2013/JingyiBRC_BJ104_2493.pdf \"Zhu J, van Stokkum Ivo HM, Paparelli L, Jones Michael R, Groot Marie L (2013) Early Bacteriopheophytin Reduction in Charge Separation in Reaction Centers of Rhodobacter sphaeroides. Biophysical Journal 104 (11):2493-2502.\""
   ]
  },
  {
   "cell_type": "markdown",
   "metadata": {},
   "source": [
    "### Inspect data"
   ]
  },
  {
   "cell_type": "code",
   "execution_count": null,
   "metadata": {},
   "outputs": [],
   "source": [
    "from pyglotaran_extras import plot_data_overview\n",
    "\n",
    "BRC_NIR_data_path = \"BRC_Pexc_NIR.ascii\"\n",
    "plot_data_overview(BRC_NIR_data_path, nr_of_data_svd_vectors=2, linlog=True);"
   ]
  },
  {
   "cell_type": "markdown",
   "metadata": {},
   "source": [
    "## Global Analysis: sequential scheme with decay rates in decreasing order"
   ]
  },
  {
   "cell_type": "markdown",
   "metadata": {},
   "source": [
    "### Used model and parameters"
   ]
  },
  {
   "cell_type": "code",
   "execution_count": null,
   "metadata": {},
   "outputs": [],
   "source": [
    "from glotaran.utils.ipython import display_file\n",
    "\n",
    "BRC_NIR_global_model_path = \"models/BRC_NIR-global-model.yml\"\n",
    "BRC_NIR_global_parameters_path = \"models/BRC_NIR-global-parameters.yml\""
   ]
  },
  {
   "cell_type": "markdown",
   "metadata": {},
   "source": [
    "#### Model file"
   ]
  },
  {
   "cell_type": "code",
   "execution_count": null,
   "metadata": {},
   "outputs": [],
   "source": [
    "display_file(BRC_NIR_global_model_path, syntax=\"yml\")"
   ]
  },
  {
   "cell_type": "markdown",
   "metadata": {},
   "source": [
    "#### Parameters file"
   ]
  },
  {
   "cell_type": "markdown",
   "metadata": {},
   "source": [
    "The free parameters are the center (the location of the maximum of the IRF at 1000 nm, the dispersion_center) and the width of the IRF, and the kinetic parameters. The first decay rate has been fixed at 31/ps, it describes ultrafast relaxation and the coherent artefact. The final state is long lived. The final decay rate has been fixed at a very small number to avoid numerical problems with the optimization.\n",
    "The dispersion parameters will be estimated from the data."
   ]
  },
  {
   "cell_type": "markdown",
   "metadata": {},
   "source": [
    "Exercise 5: estimate the missing starting values for the parameters from the data inspection, and insert these in the models/BRC_NIR-global-parameters.yml file."
   ]
  },
  {
   "cell_type": "code",
   "execution_count": null,
   "metadata": {},
   "outputs": [],
   "source": [
    "display_file(BRC_NIR_global_parameters_path, syntax=\"yml\")"
   ]
  },
  {
   "cell_type": "markdown",
   "metadata": {},
   "source": [
    "### Create scheme and optimize it"
   ]
  },
  {
   "cell_type": "code",
   "execution_count": null,
   "metadata": {},
   "outputs": [],
   "source": [
    "from glotaran.optimization.optimize import optimize\n",
    "from glotaran.project.scheme import Scheme\n",
    "\n",
    "BRC_NIR_global_scheme = Scheme(\n",
    "    model=BRC_NIR_global_model_path,\n",
    "    parameters=BRC_NIR_global_parameters_path,\n",
    "    maximum_number_function_evaluations=7,\n",
    "    data={\"BRC_NIR_data\": BRC_NIR_data_path},\n",
    ")\n",
    "BRC_NIR_global_scheme.validate()"
   ]
  },
  {
   "cell_type": "code",
   "execution_count": null,
   "metadata": {},
   "outputs": [],
   "source": [
    "BRC_NIR_global_result = optimize(BRC_NIR_global_scheme)"
   ]
  },
  {
   "cell_type": "code",
   "execution_count": null,
   "metadata": {},
   "outputs": [],
   "source": [
    "BRC_NIR_global_result"
   ]
  },
  {
   "cell_type": "code",
   "execution_count": null,
   "metadata": {},
   "outputs": [],
   "source": [
    "BRC_NIR_global_result.optimized_parameters"
   ]
  },
  {
   "cell_type": "markdown",
   "metadata": {},
   "source": [
    "### Result plots"
   ]
  },
  {
   "cell_type": "markdown",
   "metadata": {},
   "source": [
    "#### Fit quality"
   ]
  },
  {
   "cell_type": "code",
   "execution_count": null,
   "metadata": {},
   "outputs": [],
   "source": [
    "from pyglotaran_extras import plot_fitted_traces, select_plot_wavelengths\n",
    "\n",
    "wavelengths = select_plot_wavelengths(BRC_NIR_global_result.data[\"BRC_NIR_data\"])\n",
    "plot_fitted_traces(BRC_NIR_global_result.data[\"BRC_NIR_data\"], wavelengths);"
   ]
  },
  {
   "cell_type": "code",
   "execution_count": null,
   "metadata": {},
   "outputs": [],
   "source": [
    "fig_global, axes = plot_fitted_traces(\n",
    "    BRC_NIR_global_result.data[\"BRC_NIR_data\"], wavelengths, linlog=True, linthresh=1\n",
    ")"
   ]
  },
  {
   "cell_type": "markdown",
   "metadata": {},
   "source": [
    "Note that in the second plot the time axis is linear until 1 ps and logarithmic thereafter. This plot is more informative."
   ]
  },
  {
   "cell_type": "markdown",
   "metadata": {},
   "source": [
    "#### Overview"
   ]
  },
  {
   "cell_type": "code",
   "execution_count": null,
   "metadata": {},
   "outputs": [],
   "source": [
    "from pyglotaran_extras import plot_overview\n",
    "\n",
    "plot_overview(\n",
    "    BRC_NIR_global_result.data[\"BRC_NIR_data\"],\n",
    "    linlog=True,\n",
    "    figure_only=False,\n",
    "    nr_of_data_svd_vectors=4,\n",
    "    nr_of_residual_svd_vectors=1,\n",
    ");"
   ]
  },
  {
   "cell_type": "markdown",
   "metadata": {},
   "source": [
    "Exercise 6: Comment on the interpretation of the EADS, with the help of literature. Which EADS is the most difficult to interpret?"
   ]
  },
  {
   "cell_type": "markdown",
   "metadata": {},
   "source": [
    "## First Target Analysis: inverted kinetics"
   ]
  },
  {
   "cell_type": "markdown",
   "metadata": {},
   "source": [
    "### Used model and parameters"
   ]
  },
  {
   "cell_type": "code",
   "execution_count": null,
   "metadata": {},
   "outputs": [],
   "source": [
    "BRC_NIR_target_model_path = \"models/BRC_NIR-target-model.yml\"\n",
    "BRC_NIR_target_parameters_path = \"models/BRC_NIR-target-parameters.yml\""
   ]
  },
  {
   "cell_type": "markdown",
   "metadata": {},
   "source": [
    "#### Model file"
   ]
  },
  {
   "cell_type": "code",
   "execution_count": null,
   "metadata": {},
   "outputs": [],
   "source": [
    "display_file(BRC_NIR_target_model_path, syntax=\"yml\")"
   ]
  },
  {
   "cell_type": "markdown",
   "metadata": {},
   "source": [
    "#### Parameters file"
   ]
  },
  {
   "cell_type": "markdown",
   "metadata": {},
   "source": [
    "Exercise 7: In the regular sequential scheme (with decay rates in decreasing order) you can interchange two of the decay rates to model the inverted kinetics that the second electron transfer step is faster than the first.\n",
    "Insert the missing starting values in the models/BRC_NIR-target-parameters.yml file. Hint: use the above estimated kinetic and IRF parameters."
   ]
  },
  {
   "cell_type": "code",
   "execution_count": null,
   "metadata": {},
   "outputs": [],
   "source": [
    "display_file(BRC_NIR_target_parameters_path, syntax=\"yml\")"
   ]
  },
  {
   "cell_type": "markdown",
   "metadata": {},
   "source": [
    "The free parameters are the center (the location of the maximum of the IRF) and the width of the IRF, and some of the kinetic parameters.\n",
    "Which kinetic parameters can be estimated is difficult, and requires some trial and error. Six eigenvalues (the reciprocals of the lifetimes) of the K matrix can in principle be estimated and spectral assumptions are needed for the remaining kinetic parameters. Because of the limited time range measured(less than 100 ps), it is better to fix the Chl decay rate at 1/(2ns)."
   ]
  },
  {
   "cell_type": "markdown",
   "metadata": {},
   "source": [
    "### Create scheme and optimize it"
   ]
  },
  {
   "cell_type": "code",
   "execution_count": null,
   "metadata": {},
   "outputs": [],
   "source": [
    "BRC_NIR_target_scheme = Scheme(\n",
    "    model=BRC_NIR_target_model_path,\n",
    "    parameters=BRC_NIR_target_parameters_path,\n",
    "    maximum_number_function_evaluations=7,\n",
    "    data={\"BRC_NIR_data\": BRC_NIR_data_path},\n",
    ")\n",
    "BRC_NIR_target_scheme.validate()"
   ]
  },
  {
   "cell_type": "code",
   "execution_count": null,
   "metadata": {},
   "outputs": [],
   "source": [
    "BRC_NIR_target_result = optimize(BRC_NIR_target_scheme)"
   ]
  },
  {
   "cell_type": "code",
   "execution_count": null,
   "metadata": {},
   "outputs": [],
   "source": [
    "BRC_NIR_target_result"
   ]
  },
  {
   "cell_type": "markdown",
   "metadata": {},
   "source": [
    "### Result plots"
   ]
  },
  {
   "cell_type": "markdown",
   "metadata": {},
   "source": [
    "#### Fit quality"
   ]
  },
  {
   "cell_type": "code",
   "execution_count": null,
   "metadata": {},
   "outputs": [],
   "source": [
    "fig_target, axes = plot_fitted_traces(\n",
    "    BRC_NIR_target_result.data[\"BRC_NIR_data\"], wavelengths, linlog=True, linthresh=1\n",
    ");"
   ]
  },
  {
   "cell_type": "markdown",
   "metadata": {},
   "source": [
    "#### Overview"
   ]
  },
  {
   "cell_type": "code",
   "execution_count": null,
   "metadata": {},
   "outputs": [],
   "source": [
    "plot_overview(\n",
    "    BRC_NIR_target_result.data[\"BRC_NIR_data\"],\n",
    "    figure_only=False,\n",
    "    nr_of_data_svd_vectors=3,\n",
    "    nr_of_residual_svd_vectors=1,\n",
    "    linlog=True,\n",
    "    linthresh=1,\n",
    ");"
   ]
  },
  {
   "cell_type": "markdown",
   "metadata": {},
   "source": [
    "Exercise 8: Comment on the interpretation of the SADS, with the help of literature. Which SADS is the most difficult to interpret?"
   ]
  },
  {
   "cell_type": "code",
   "execution_count": null,
   "metadata": {},
   "outputs": [],
   "source": [
    "BRC_NIR_target_result.optimized_parameters"
   ]
  },
  {
   "cell_type": "code",
   "execution_count": null,
   "metadata": {},
   "outputs": [],
   "source": [
    "compartments = BRC_NIR_target_scheme.model.initial_concentration[\"input1\"].compartments\n",
    "\n",
    "BRC_NIR_target_scheme.model.k_matrix[\"km1\"].matrix_as_markdown(compartments).replace(\n",
    "    \"0.0000e+00\", \"\"\n",
    ")"
   ]
  }
 ],
 "metadata": {
  "language_info": {
   "codemirror_mode": {
    "name": "ipython"
   },
   "file_extension": ".py",
   "mimetype": "text/x-python",
   "name": "python",
   "nbconvert_exporter": "python"
  }
 },
 "nbformat": 4,
 "nbformat_minor": 4
}
