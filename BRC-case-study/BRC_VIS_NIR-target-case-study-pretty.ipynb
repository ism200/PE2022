{
 "cells": [
  {
   "cell_type": "markdown",
   "metadata": {},
   "source": [
    "# BRC case study"
   ]
  },
  {
   "cell_type": "markdown",
   "metadata": {},
   "source": [
    "This case study concerns the transient difference absorption measured in the visible and near-infrared spectral region after 880 nm\n",
    "excitation from purple bacterial reaction center (RC). The measurement, the global analysis and the target analysis is based upon the model explained in (Zhu et al. 2013).\n",
    "\n",
    "Zhu J, van Stokkum Ivo HM, Paparelli L, Jones Michael R, Groot Marie L (2013) Early Bacteriopheophytin Reduction in Charge Separation in Reaction Centers of Rhodobacter sphaeroides. Biophysical Journal 104 (11):2493-2502."
   ]
  },
  {
   "cell_type": "markdown",
   "metadata": {},
   "source": [
    "### Inspect data"
   ]
  },
  {
   "cell_type": "code",
   "execution_count": null,
   "metadata": {},
   "outputs": [],
   "source": [
    "from pyglotaran_extras import plot_data_overview\n",
    "\n",
    "BRC_VIS_data_path = \"BRC_Pexc_VIS.ascii\"\n",
    "plot_data_overview(BRC_VIS_data_path, nr_of_data_svd_vectors=5, linlog=True)\n",
    "BRC_NIR_data_path = \"BRC_Pexc_NIR.ascii\"\n",
    "plot_data_overview(BRC_NIR_data_path, nr_of_data_svd_vectors=5, linlog=True);"
   ]
  },
  {
   "cell_type": "markdown",
   "metadata": {},
   "source": [
    "## Simultaneous Target Analysis with heterogeneous model"
   ]
  },
  {
   "cell_type": "markdown",
   "metadata": {},
   "source": [
    "### Used model and parameters"
   ]
  },
  {
   "cell_type": "code",
   "execution_count": null,
   "metadata": {},
   "outputs": [],
   "source": [
    "from glotaran.utils.ipython import display_file\n",
    "\n",
    "BRC_VIS_NIR_target_model_path = \"models/BRC_VIS_NIR-target-model.yml\"\n",
    "BRC_VIS_NIR_target_parameters_path = \"models/BRC_VIS_NIR-target-parameters.yml\""
   ]
  },
  {
   "cell_type": "markdown",
   "metadata": {},
   "source": [
    "#### Model file"
   ]
  },
  {
   "cell_type": "code",
   "execution_count": null,
   "metadata": {},
   "outputs": [],
   "source": [
    "display_file(BRC_VIS_NIR_target_model_path, syntax=\"yaml\")"
   ]
  },
  {
   "cell_type": "markdown",
   "metadata": {},
   "source": [
    "#### Parameters file"
   ]
  },
  {
   "cell_type": "markdown",
   "metadata": {},
   "source": [
    "The free parameters are the center (the location of the maximum of the IRF) and the width of the IRF, and the kinetic parameters. In addition, there is the mc_scale.2 parameter that describes the fraction of the mc2 megacomplex. Dispersion parameters are estimated from the NIR data as well."
   ]
  },
  {
   "cell_type": "markdown",
   "metadata": {},
   "source": [
    "Exercise 9: Insert the missing starting values for the parameters from the previous analyses, or from the literature, as presented in the lecture in the models/BRC_VIS_NIR-target-parameters.yml file."
   ]
  },
  {
   "cell_type": "code",
   "execution_count": null,
   "metadata": {},
   "outputs": [],
   "source": [
    "display_file(BRC_VIS_NIR_target_parameters_path, syntax=\"yml\")"
   ]
  },
  {
   "cell_type": "markdown",
   "metadata": {},
   "source": [
    "### Create scheme and optimize it"
   ]
  },
  {
   "cell_type": "code",
   "execution_count": null,
   "metadata": {},
   "outputs": [],
   "source": [
    "from glotaran.optimization.optimize import optimize\n",
    "from glotaran.project.scheme import Scheme\n",
    "\n",
    "BRC_VIS_NIR_target_scheme = Scheme(\n",
    "    model=BRC_VIS_NIR_target_model_path,\n",
    "    parameters=BRC_VIS_NIR_target_parameters_path,\n",
    "    data={\"BRC_VIS_data\": BRC_VIS_data_path, \"BRC_NIR_data\": BRC_NIR_data_path},\n",
    "    maximum_number_function_evaluations=1,\n",
    ")\n",
    "BRC_VIS_NIR_target_scheme.validate()"
   ]
  },
  {
   "cell_type": "markdown",
   "metadata": {},
   "source": [
    "Exercise 10: How many function evaluations are needed for a satisfactory fit?"
   ]
  },
  {
   "cell_type": "code",
   "execution_count": null,
   "metadata": {},
   "outputs": [],
   "source": [
    "BRC_VIS_NIR_target_result = optimize(BRC_VIS_NIR_target_scheme)"
   ]
  },
  {
   "cell_type": "code",
   "execution_count": null,
   "metadata": {},
   "outputs": [],
   "source": [
    "BRC_VIS_NIR_target_result"
   ]
  },
  {
   "cell_type": "code",
   "execution_count": null,
   "metadata": {},
   "outputs": [],
   "source": [
    "BRC_VIS_NIR_target_result.optimized_parameters"
   ]
  },
  {
   "cell_type": "markdown",
   "metadata": {},
   "source": [
    "### Result plots"
   ]
  },
  {
   "cell_type": "markdown",
   "metadata": {},
   "source": [
    "#### Fit quality"
   ]
  },
  {
   "cell_type": "code",
   "execution_count": null,
   "metadata": {},
   "outputs": [],
   "source": [
    "from pyglotaran_extras import plot_fitted_traces, select_plot_wavelengths\n",
    "\n",
    "wavelengths = select_plot_wavelengths(BRC_VIS_NIR_target_result.data[\"BRC_VIS_data\"])\n",
    "plot_fitted_traces(BRC_VIS_NIR_target_result.data[\"BRC_VIS_data\"], wavelengths);"
   ]
  },
  {
   "cell_type": "code",
   "execution_count": null,
   "metadata": {},
   "outputs": [],
   "source": [
    "fig_global, axes = plot_fitted_traces(\n",
    "    BRC_VIS_NIR_target_result.data[\"BRC_VIS_data\"], wavelengths, linlog=True, linthresh=1\n",
    ")\n",
    "wavelengthsNIR = select_plot_wavelengths(BRC_VIS_NIR_target_result.data[\"BRC_NIR_data\"])\n",
    "fig_globalNIR, axes = plot_fitted_traces(\n",
    "    BRC_VIS_NIR_target_result.data[\"BRC_NIR_data\"], wavelengthsNIR, linlog=True, linthresh=1\n",
    ")"
   ]
  },
  {
   "cell_type": "markdown",
   "metadata": {},
   "source": [
    "Note that in the second plot the time axis is linear until 1 ps and logarithmic thereafter. This plot is more informative."
   ]
  },
  {
   "cell_type": "markdown",
   "metadata": {},
   "source": [
    "#### Overview"
   ]
  },
  {
   "cell_type": "code",
   "execution_count": null,
   "metadata": {},
   "outputs": [],
   "source": [
    "from pyglotaran_extras import plot_overview\n",
    "\n",
    "plot_overview(\n",
    "    BRC_VIS_NIR_target_result.data[\"BRC_VIS_data\"],\n",
    "    linlog=True,\n",
    "    figure_only=False,\n",
    "    nr_of_data_svd_vectors=5,\n",
    "    nr_of_residual_svd_vectors=1,\n",
    ")\n",
    "\n",
    "plot_overview(\n",
    "    BRC_VIS_NIR_target_result.data[\"BRC_NIR_data\"],\n",
    "    linlog=True,\n",
    "    figure_only=False,\n",
    "    nr_of_data_svd_vectors=5,\n",
    "    nr_of_residual_svd_vectors=1,\n",
    ");"
   ]
  },
  {
   "cell_type": "markdown",
   "metadata": {},
   "source": [
    "Exercise 11: Comment on the interpretation of the SADS, with the help of literature. Which SADS is the most difficult to interpret?"
   ]
  }
 ],
 "metadata": {
  "language_info": {
   "codemirror_mode": {
    "name": "ipython"
   },
   "file_extension": ".py",
   "mimetype": "text/x-python",
   "name": "python",
   "nbconvert_exporter": "python"
  }
 },
 "nbformat": 4,
 "nbformat_minor": 4
}
