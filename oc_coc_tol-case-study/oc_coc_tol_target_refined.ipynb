{
 "cells": [
  {
   "cell_type": "markdown",
   "metadata": {},
   "source": [
    "# oc and coc case study"
   ]
  },
  {
   "cell_type": "markdown",
   "metadata": {},
   "source": [
    "This case study concerns the transient difference absorption measured in the visible spectral region after 530 nm excitation of two articial light harvesters, named orange-calix (oc) and calix-orange-calix (coc), in the solvent toluene. The measurement, the global analysis and the target analysis is based upon the model explained in ([Hippius et al 2007][Hippius2007]).\n",
    "\n",
    "[Hippius2007]: https://www.few.vu.nl/~ivo/pub/2007/HippiusWilliamsWuerthnerJPCC111_13988_13996.pdf \"C. Hippius, I.H.M. van Stokkum, E. Zangrando, R.M. Williams, F. Würthner, Excited state interactions in calix[4]arene-perylene bisimide dye conjugates: Global and target analysis of supramolecular building blocks, Journal of Physical Chemistry C, 111 (2007) 13988-13996.\""
   ]
  },
  {
   "cell_type": "markdown",
   "metadata": {},
   "source": [
    "### Inspect data"
   ]
  },
  {
   "cell_type": "code",
   "execution_count": null,
   "metadata": {},
   "outputs": [],
   "source": [
    "from pyglotaran_extras import plot_data_overview\n",
    "\n",
    "oc_tol_data_path = \"2016oc_tol.ascii\"\n",
    "plot_data_overview(oc_tol_data_path, nr_of_data_svd_vectors=5, linlog=True, linthresh=1)\n",
    "coc_tol_data_path = \"2016coc_tol.ascii\"\n",
    "plot_data_overview(coc_tol_data_path, nr_of_data_svd_vectors=5, linlog=True, linthresh=1);"
   ]
  },
  {
   "cell_type": "markdown",
   "metadata": {},
   "source": [
    "## Refined Second Target Analysis: heterogeneous kinetics and small triplet yield"
   ]
  },
  {
   "cell_type": "markdown",
   "metadata": {},
   "source": [
    "### Used model and parameters"
   ]
  },
  {
   "cell_type": "code",
   "execution_count": null,
   "metadata": {},
   "outputs": [],
   "source": [
    "from glotaran.utils.ipython import display_file\n",
    "\n",
    "oc_coc_tol_target_model_path = \"models/oc_coc_tol-target_refined-model.yml\"\n",
    "oc_coc_tol_target_parameters_path = \"models/oc_coc_tol-target_refined-parameters.yml\""
   ]
  },
  {
   "cell_type": "markdown",
   "metadata": {},
   "source": [
    "#### Model file"
   ]
  },
  {
   "cell_type": "code",
   "execution_count": null,
   "metadata": {},
   "outputs": [],
   "source": [
    "display_file(oc_coc_tol_target_model_path, syntax=\"yaml\")"
   ]
  },
  {
   "cell_type": "markdown",
   "metadata": {},
   "source": [
    "#### Parameters file"
   ]
  },
  {
   "cell_type": "markdown",
   "metadata": {},
   "source": [
    "Exercise 14: Make sure you thoroughly understand the refined target model that is applied here.\n",
    "\n",
    "Describe the model qualitatively in your own words.\n",
    "\n",
    "Hints: solvation, heterogeneous kinetics, **oc vs coc**, triplet yield, spectral assumptions, kinetic assumptions.\n",
    "\n",
    "Exercise 15: Study the parameters file carefully. Insert the missing starting values in the models/oc_coc_tol-target_refined-parameters.yml file. Hint: use the estimated kinetic and IRF parameters from the 2nd target analysis. Comment on the amount of free parameters. Are they all indispensable?"
   ]
  },
  {
   "cell_type": "code",
   "execution_count": null,
   "metadata": {},
   "outputs": [],
   "source": [
    "display_file(oc_coc_tol_target_parameters_path, syntax=\"yaml\")"
   ]
  },
  {
   "cell_type": "markdown",
   "metadata": {},
   "source": [
    "### Create scheme and optimize it"
   ]
  },
  {
   "cell_type": "code",
   "execution_count": null,
   "metadata": {},
   "outputs": [],
   "source": [
    "from glotaran.optimization.optimize import optimize\n",
    "from glotaran.project.scheme import Scheme\n",
    "\n",
    "oc_coc_tol_target_scheme = Scheme(\n",
    "    model=oc_coc_tol_target_model_path,\n",
    "    parameters=oc_coc_tol_target_parameters_path,\n",
    "    maximum_number_function_evaluations=4,\n",
    "    data={\"oc_tol_data\": oc_tol_data_path, \"coc_tol_data\": coc_tol_data_path},\n",
    ")\n",
    "oc_coc_tol_target_scheme.validate()"
   ]
  },
  {
   "cell_type": "code",
   "execution_count": null,
   "metadata": {},
   "outputs": [],
   "source": [
    "oc_coc_tol_target_result = optimize(oc_coc_tol_target_scheme)"
   ]
  },
  {
   "cell_type": "code",
   "execution_count": null,
   "metadata": {},
   "outputs": [],
   "source": [
    "oc_coc_tol_target_result"
   ]
  },
  {
   "cell_type": "code",
   "execution_count": null,
   "metadata": {},
   "outputs": [],
   "source": [
    "oc_coc_tol_target_result.optimized_parameters"
   ]
  },
  {
   "cell_type": "markdown",
   "metadata": {},
   "source": [
    "### Result plots"
   ]
  },
  {
   "cell_type": "markdown",
   "metadata": {},
   "source": [
    "#### Fit quality"
   ]
  },
  {
   "cell_type": "code",
   "execution_count": null,
   "metadata": {},
   "outputs": [],
   "source": [
    "from pyglotaran_extras import plot_fitted_traces, select_plot_wavelengths\n",
    "\n",
    "result1 = oc_coc_tol_target_result.data[\"oc_tol_data\"]\n",
    "result2 = oc_coc_tol_target_result.data[\"coc_tol_data\"]\n",
    "allresults = [result1, result2]\n",
    "# wavelengths=select_plot_wavelengths(result1,wavelength_range=(420,770))\n",
    "wavelengths = select_plot_wavelengths(result1)\n",
    "fig3tr, axes = plot_fitted_traces(allresults, wavelengths, linlog=True, linthresh=1)"
   ]
  },
  {
   "cell_type": "markdown",
   "metadata": {},
   "source": [
    "#### Overview"
   ]
  },
  {
   "cell_type": "code",
   "execution_count": null,
   "metadata": {},
   "outputs": [],
   "source": [
    "from pyglotaran_extras import plot_overview\n",
    "\n",
    "plot_overview(\n",
    "    oc_coc_tol_target_result.data[\"oc_tol_data\"],\n",
    "    figure_only=False,\n",
    "    nr_of_data_svd_vectors=3,\n",
    "    nr_of_residual_svd_vectors=1,\n",
    "    linlog=True,\n",
    "    linthresh=1,\n",
    ");"
   ]
  },
  {
   "cell_type": "code",
   "execution_count": null,
   "metadata": {},
   "outputs": [],
   "source": [
    "plot_overview(\n",
    "    oc_coc_tol_target_result.data[\"coc_tol_data\"],\n",
    "    figure_only=False,\n",
    "    nr_of_data_svd_vectors=3,\n",
    "    nr_of_residual_svd_vectors=1,\n",
    "    linlog=True,\n",
    "    linthresh=1,\n",
    ");"
   ]
  },
  {
   "cell_type": "markdown",
   "metadata": {},
   "source": [
    "## Dispersion curves"
   ]
  },
  {
   "cell_type": "code",
   "execution_count": null,
   "metadata": {},
   "outputs": [],
   "source": [
    "oc_coc_tol_target_result.data[\"oc_tol_data\"].data.sel(time=slice(0, 2)).plot()\n",
    "oc_coc_tol_target_result.data[\"oc_tol_data\"].irf_center_location.plot()"
   ]
  },
  {
   "cell_type": "code",
   "execution_count": null,
   "metadata": {},
   "outputs": [],
   "source": [
    "oc_coc_tol_target_result.data[\"coc_tol_data\"].data.sel(time=slice(0, 2)).plot()\n",
    "oc_coc_tol_target_result.data[\"coc_tol_data\"].irf_center_location.plot()"
   ]
  },
  {
   "cell_type": "markdown",
   "metadata": {},
   "source": [
    "Exercise 16: Compare the quality of the fit of the simultaneous refined 2nd target analysis (summarized by the rms error and the first LSV and RSV) with that of the individual global, 1st and 2nd target analysis.\n",
    "\n",
    "Exercise 17: Comment on the interpretation of the SADS, with the help of the literature, and relate this to the target model used."
   ]
  },
  {
   "cell_type": "code",
   "execution_count": null,
   "metadata": {},
   "outputs": [],
   "source": [
    "compartments = oc_coc_tol_target_scheme.model.initial_concentration[\"input2\"].compartments\n",
    "\n",
    "oc_coc_tol_target_scheme.model.k_matrix[\"km2fast\"].matrix_as_markdown(compartments).replace(\n",
    "    \"0.0000e+00\", \"\"\n",
    ")"
   ]
  },
  {
   "cell_type": "code",
   "execution_count": null,
   "metadata": {},
   "outputs": [],
   "source": [
    "compartments = oc_coc_tol_target_scheme.model.initial_concentration[\"input2\"].compartments\n",
    "\n",
    "oc_coc_tol_target_scheme.model.k_matrix[\"km2slow\"].matrix_as_markdown(compartments).replace(\n",
    "    \"0.0000e+00\", \"\"\n",
    ")"
   ]
  },
  {
   "cell_type": "code",
   "execution_count": null,
   "metadata": {},
   "outputs": [],
   "source": [
    "from show_a_matrix import show_a_matrix\n",
    "\n",
    "show_a_matrix(oc_coc_tol_target_result)"
   ]
  }
 ],
 "metadata": {
  "interpreter": {
   "hash": "a21d58caabd9076bb5b46436ba653e0c3388531d8605b268fe4bb047e3acee81"
  },
  "language_info": {
   "codemirror_mode": {
    "name": "ipython"
   },
   "file_extension": ".py",
   "mimetype": "text/x-python",
   "name": "python",
   "nbconvert_exporter": "python"
  }
 },
 "nbformat": 4,
 "nbformat_minor": 4
}
