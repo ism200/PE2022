{
 "cells": [
  {
   "cell_type": "markdown",
   "metadata": {},
   "source": [
    "# oc case study"
   ]
  },
  {
   "cell_type": "markdown",
   "metadata": {},
   "source": [
    "This case study concerns the transient difference absorption measured in the visible spectral region after 530 nm excitation of an articial light harvester, named orange-calix (oc), in the solvent toluene. The measurement, the global analysis and the target analysis is based upon the model explained in ([Hippius et al 2007][Hippius2007]).\n",
    "\n",
    "[Hippius2007]: https://www.few.vu.nl/~ivo/pub/2007/HippiusWilliamsWuerthnerJPCC111_13988_13996.pdf \"C. Hippius, I.H.M. van Stokkum, E. Zangrando, R.M. Williams, F. Würthner, Excited state interactions in calix[4]arene-perylene bisimide dye conjugates: Global and target analysis of supramolecular building blocks, Journal of Physical Chemistry C, 111 (2007) 13988-13996.\""
   ]
  },
  {
   "cell_type": "markdown",
   "metadata": {},
   "source": [
    "### Inspect data"
   ]
  },
  {
   "cell_type": "code",
   "execution_count": null,
   "metadata": {},
   "outputs": [],
   "source": [
    "from pyglotaran_extras import plot_data_overview\n",
    "\n",
    "oc_tol_data_path = \"2016oc_tol.ascii\"\n",
    "plot_data_overview(oc_tol_data_path, nr_of_data_svd_vectors=5, linlog=True, linthresh=1);"
   ]
  },
  {
   "cell_type": "markdown",
   "metadata": {},
   "source": [
    "## Global Analysis: sequential scheme with decay rates in decreasing order"
   ]
  },
  {
   "cell_type": "markdown",
   "metadata": {},
   "source": [
    "### Used model and parameters"
   ]
  },
  {
   "cell_type": "code",
   "execution_count": null,
   "metadata": {},
   "outputs": [],
   "source": [
    "from glotaran.utils.ipython import display_file\n",
    "\n",
    "oc_tol_global_model_path = \"models/oc_tol-global-model.yml\"\n",
    "oc_tol_global_parameters_path = \"models/oc_tol-global-parameters.yml\""
   ]
  },
  {
   "cell_type": "markdown",
   "metadata": {},
   "source": [
    "#### Model file"
   ]
  },
  {
   "cell_type": "code",
   "execution_count": null,
   "metadata": {},
   "outputs": [],
   "source": [
    "display_file(oc_tol_global_model_path, syntax=\"yaml\")"
   ]
  },
  {
   "cell_type": "markdown",
   "metadata": {},
   "source": [
    "#### Parameters file"
   ]
  },
  {
   "cell_type": "markdown",
   "metadata": {},
   "source": [
    "The free parameters are the center (the location of the maximum of the IRF at 550 nm, the dispersion_center) and the width of the IRF, and the kinetic parameters. The final state is long lived. The final decay rate has been fixed at a very small number to avoid numerical problems with the optimization.\n",
    "The dispersion parameters have been fixed as well, but could have been estimated from the data."
   ]
  },
  {
   "cell_type": "markdown",
   "metadata": {},
   "source": [
    "Exercise 1: estimate the missing starting values for the parameters from the data inspection, and insert these in the models/oc_tol-global-parameters.yml file."
   ]
  },
  {
   "cell_type": "code",
   "execution_count": null,
   "metadata": {},
   "outputs": [],
   "source": [
    "display_file(oc_tol_global_parameters_path, syntax=\"yaml\")"
   ]
  },
  {
   "cell_type": "markdown",
   "metadata": {},
   "source": [
    "### Create scheme and optimize it"
   ]
  },
  {
   "cell_type": "code",
   "execution_count": null,
   "metadata": {},
   "outputs": [],
   "source": [
    "from glotaran.optimization.optimize import optimize\n",
    "from glotaran.project.scheme import Scheme\n",
    "\n",
    "oc_tol_global_scheme = Scheme(\n",
    "    model=oc_tol_global_model_path,\n",
    "    parameters=oc_tol_global_parameters_path,\n",
    "    maximum_number_function_evaluations=3,\n",
    "    data={\"oc_tol_data\": oc_tol_data_path},\n",
    ")\n",
    "oc_tol_global_scheme.validate()"
   ]
  },
  {
   "cell_type": "code",
   "execution_count": null,
   "metadata": {},
   "outputs": [],
   "source": [
    "oc_tol_global_result = optimize(oc_tol_global_scheme)"
   ]
  },
  {
   "cell_type": "code",
   "execution_count": null,
   "metadata": {},
   "outputs": [],
   "source": [
    "oc_tol_global_result"
   ]
  },
  {
   "cell_type": "code",
   "execution_count": null,
   "metadata": {},
   "outputs": [],
   "source": [
    "oc_tol_global_result.optimized_parameters"
   ]
  },
  {
   "cell_type": "code",
   "execution_count": null,
   "metadata": {},
   "outputs": [],
   "source": [
    "from show_a_matrix import show_a_matrix\n",
    "\n",
    "show_a_matrix(oc_tol_global_result)"
   ]
  },
  {
   "cell_type": "markdown",
   "metadata": {},
   "source": [
    "### Result plots"
   ]
  },
  {
   "cell_type": "markdown",
   "metadata": {},
   "source": [
    "#### Fit quality"
   ]
  },
  {
   "cell_type": "code",
   "execution_count": null,
   "metadata": {},
   "outputs": [],
   "source": [
    "from pyglotaran_extras import plot_fitted_traces, select_plot_wavelengths\n",
    "\n",
    "wavelengths = select_plot_wavelengths(oc_tol_global_result.data[\"oc_tol_data\"])\n",
    "plot_fitted_traces(oc_tol_global_result.data[\"oc_tol_data\"], wavelengths, linlog=True, linthresh=1);"
   ]
  },
  {
   "cell_type": "markdown",
   "metadata": {},
   "source": [
    "Note that in this plot the time axis is linear until 1 ps and logarithmic thereafter. This plot is more informative."
   ]
  },
  {
   "cell_type": "markdown",
   "metadata": {},
   "source": [
    "#### Overview"
   ]
  },
  {
   "cell_type": "code",
   "execution_count": null,
   "metadata": {},
   "outputs": [],
   "source": [
    "from pyglotaran_extras import plot_overview\n",
    "\n",
    "plot_overview(\n",
    "    oc_tol_global_result.data[\"oc_tol_data\"],\n",
    "    linlog=True,\n",
    "    figure_only=False,\n",
    "    nr_of_data_svd_vectors=4,\n",
    "    nr_of_residual_svd_vectors=1,\n",
    ");"
   ]
  },
  {
   "cell_type": "markdown",
   "metadata": {},
   "source": [
    "## Dispersion curve"
   ]
  },
  {
   "cell_type": "code",
   "execution_count": null,
   "metadata": {},
   "outputs": [],
   "source": [
    "oc_tol_global_result.data[\"oc_tol_data\"].data.sel(time=slice(0, 2)).plot()\n",
    "oc_tol_global_result.data[\"oc_tol_data\"].irf_center_location.plot()"
   ]
  },
  {
   "cell_type": "markdown",
   "metadata": {},
   "source": [
    "Exercise 2: Comment on the interpretation of the EADS, with the help of literature. Which EADS is the most difficult to interpret?"
   ]
  },
  {
   "cell_type": "markdown",
   "metadata": {},
   "source": [
    "## First Target Analysis: small triplet yield"
   ]
  },
  {
   "cell_type": "markdown",
   "metadata": {},
   "source": [
    "### Used model and parameters"
   ]
  },
  {
   "cell_type": "code",
   "execution_count": null,
   "metadata": {},
   "outputs": [],
   "source": [
    "oc_tol_target_model_path = \"models/oc_tol-target-model.yml\"\n",
    "oc_tol_target_parameters_path = \"models/oc_tol-target-parameters.yml\""
   ]
  },
  {
   "cell_type": "markdown",
   "metadata": {},
   "source": [
    "#### Model file"
   ]
  },
  {
   "cell_type": "code",
   "execution_count": null,
   "metadata": {},
   "outputs": [],
   "source": [
    "display_file(oc_tol_target_model_path, syntax=\"yaml\")"
   ]
  },
  {
   "cell_type": "markdown",
   "metadata": {},
   "source": [
    "#### Parameters file"
   ]
  },
  {
   "cell_type": "markdown",
   "metadata": {},
   "source": [
    "Exercise 3: In the regular sequential scheme (with decay rates in decreasing order) the final EADS was very small. This can be interpreted as the generation of a triplet with a small yield.\n",
    "Insert the missing starting values in the models/oc_tol-target-parameters.yml file. Hint: use the above estimated kinetic and IRF parameters. Study the parameters file carefully. Try to find a better Tyield value, such that the bleaches near 530 nm of the 3rd and 4th SADS are comparable."
   ]
  },
  {
   "cell_type": "code",
   "execution_count": null,
   "metadata": {},
   "outputs": [],
   "source": [
    "display_file(oc_tol_target_parameters_path, syntax=\"yaml\")"
   ]
  },
  {
   "cell_type": "markdown",
   "metadata": {},
   "source": [
    "### Create scheme and optimize it"
   ]
  },
  {
   "cell_type": "code",
   "execution_count": null,
   "metadata": {},
   "outputs": [],
   "source": [
    "oc_tol_target_scheme = Scheme(\n",
    "    model=oc_tol_target_model_path,\n",
    "    parameters=oc_tol_target_parameters_path,\n",
    "    maximum_number_function_evaluations=1,\n",
    "    data={\"oc_tol_data\": oc_tol_data_path},\n",
    ")\n",
    "oc_tol_target_scheme.validate()"
   ]
  },
  {
   "cell_type": "code",
   "execution_count": null,
   "metadata": {},
   "outputs": [],
   "source": [
    "oc_tol_target_result = optimize(oc_tol_target_scheme)"
   ]
  },
  {
   "cell_type": "code",
   "execution_count": null,
   "metadata": {},
   "outputs": [],
   "source": [
    "oc_tol_target_result"
   ]
  },
  {
   "cell_type": "markdown",
   "metadata": {},
   "source": [
    "### Result plots"
   ]
  },
  {
   "cell_type": "markdown",
   "metadata": {},
   "source": [
    "#### Fit quality"
   ]
  },
  {
   "cell_type": "code",
   "execution_count": null,
   "metadata": {},
   "outputs": [],
   "source": [
    "fig_target, axes = plot_fitted_traces(\n",
    "    oc_tol_target_result.data[\"oc_tol_data\"], wavelengths, linlog=True, linthresh=1\n",
    ");"
   ]
  },
  {
   "cell_type": "markdown",
   "metadata": {},
   "source": [
    "#### Overview"
   ]
  },
  {
   "cell_type": "code",
   "execution_count": null,
   "metadata": {},
   "outputs": [],
   "source": [
    "plot_overview(\n",
    "    oc_tol_target_result.data[\"oc_tol_data\"],\n",
    "    figure_only=False,\n",
    "    nr_of_data_svd_vectors=3,\n",
    "    nr_of_residual_svd_vectors=1,\n",
    "    linlog=True,\n",
    "    linthresh=1,\n",
    ");"
   ]
  },
  {
   "cell_type": "markdown",
   "metadata": {},
   "source": [
    "Exercise 4: Comment on the interpretation of the SADS, with the help of literature. Which SADS is the most difficult to interpret?"
   ]
  },
  {
   "cell_type": "code",
   "execution_count": null,
   "metadata": {},
   "outputs": [],
   "source": [
    "oc_tol_target_result.optimized_parameters"
   ]
  },
  {
   "cell_type": "code",
   "execution_count": null,
   "metadata": {},
   "outputs": [],
   "source": [
    "compartments = oc_tol_target_scheme.model.initial_concentration[\"input1\"].compartments\n",
    "\n",
    "oc_tol_target_scheme.model.k_matrix[\"km1\"].matrix_as_markdown(compartments).replace(\n",
    "    \"0.0000e+00\", \"\"\n",
    ")"
   ]
  },
  {
   "cell_type": "code",
   "execution_count": null,
   "metadata": {},
   "outputs": [],
   "source": [
    "show_a_matrix(oc_tol_target_result)"
   ]
  }
 ],
 "metadata": {
  "interpreter": {
   "hash": "3731ce72dbd91e4f192785b744e81c0f8b70f4bed0bf93b29715722e6acba1b3"
  },
  "language_info": {
   "codemirror_mode": {
    "name": "ipython"
   },
   "file_extension": ".py",
   "mimetype": "text/x-python",
   "name": "python",
   "nbconvert_exporter": "python"
  }
 },
 "nbformat": 4,
 "nbformat_minor": 4
}
